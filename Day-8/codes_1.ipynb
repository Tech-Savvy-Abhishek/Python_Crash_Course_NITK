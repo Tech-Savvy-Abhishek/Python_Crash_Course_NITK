{
 "cells": [
  {
   "cell_type": "code",
   "execution_count": 19,
   "metadata": {},
   "outputs": [
    {
     "data": {
      "text/plain": [
       "[[1.0, 1, 1],\n",
       " [1.4142135623730951, 2, 4],\n",
       " [1.7320508075688772, 3, 9],\n",
       " [2.0, 4, 16],\n",
       " [2.23606797749979, 5, 25]]"
      ]
     },
     "execution_count": 19,
     "metadata": {},
     "output_type": "execute_result"
    }
   ],
   "source": [
    "[[x**0.5, x, x**2] for x in range(1, 6)]  #nested lists"
   ]
  },
  {
   "cell_type": "code",
   "execution_count": 20,
   "metadata": {},
   "outputs": [
    {
     "name": "stdout",
     "output_type": "stream",
     "text": [
      "[(1, 1), (1, 2), (1, 3), (1, 4), (1, 5), (1, 6), (2, 2), (2, 3), (2, 4), (2, 5), (2, 6), (3, 3), (3, 4), (3, 5), (3, 6), (4, 4), (4, 5), (4, 6), (5, 5), (5, 6)]\n"
     ]
    }
   ],
   "source": [
    "print([(x, y) for x in range(1,6) for y in range(x,7)])"
   ]
  },
  {
   "cell_type": "code",
   "execution_count": 21,
   "metadata": {},
   "outputs": [
    {
     "data": {
      "text/plain": [
       "['JSONDecodeError',\n",
       " 'JSONDecoder',\n",
       " 'JSONEncoder',\n",
       " '__all__',\n",
       " '__author__',\n",
       " '__builtins__',\n",
       " '__cached__',\n",
       " '__doc__',\n",
       " '__file__',\n",
       " '__loader__',\n",
       " '__name__',\n",
       " '__package__',\n",
       " '__path__',\n",
       " '__spec__',\n",
       " '__version__',\n",
       " '_default_decoder',\n",
       " '_default_encoder',\n",
       " 'codecs',\n",
       " 'decoder',\n",
       " 'detect_encoding',\n",
       " 'dump',\n",
       " 'dumps',\n",
       " 'encoder',\n",
       " 'load',\n",
       " 'loads',\n",
       " 'scanner']"
      ]
     },
     "execution_count": 21,
     "metadata": {},
     "output_type": "execute_result"
    }
   ],
   "source": [
    "import json\n",
    "dir(json)  # ignore all __ double underscore, these r default in built python values"
   ]
  },
  {
   "cell_type": "code",
   "execution_count": 22,
   "metadata": {},
   "outputs": [],
   "source": [
    "def json_create():\n",
    "    numbers = [(x, y) for x in range(1, 6) for y in range(x, 7)]\n",
    "    path = 'Supporting_files/numbers.json'\n",
    "    with open(path, 'w') as fptr:\n",
    "        json.dump(numbers, fptr)"
   ]
  },
  {
   "cell_type": "code",
   "execution_count": 23,
   "metadata": {},
   "outputs": [],
   "source": [
    "json_create()"
   ]
  },
  {
   "cell_type": "code",
   "execution_count": 24,
   "metadata": {},
   "outputs": [],
   "source": [
    "def json_load(path):\n",
    "    with open(path, 'r') as fptr:\n",
    "        data=json.load(fptr)\n",
    "    return data"
   ]
  },
  {
   "cell_type": "code",
   "execution_count": 25,
   "metadata": {},
   "outputs": [
    {
     "name": "stdout",
     "output_type": "stream",
     "text": [
      "<class 'list'>\n",
      "[[1, 1], [1, 2], [1, 3], [1, 4], [1, 5], [1, 6], [2, 2], [2, 3], [2, 4], [2, 5], [2, 6], [3, 3], [3, 4], [3, 5], [3, 6], [4, 4], [4, 5], [4, 6], [5, 5], [5, 6]]\n"
     ]
    }
   ],
   "source": [
    "path = './Supporting_files/numbers.json'\n",
    "d2 = json_load(path)\n",
    "print(type(d2))\n",
    "print(d2)"
   ]
  },
  {
   "cell_type": "code",
   "execution_count": 26,
   "metadata": {},
   "outputs": [
    {
     "name": "stdout",
     "output_type": "stream",
     "text": [
      "<class 'dict'>\n",
      "{'products': [{'id': 1, 'name': 'Wireless Mouse', 'price': 25.99, 'category': 'Electronics', 'inStock': True}, {'id': 2, 'name': 'Bluetooth Headphones', 'price': 49.99, 'category': 'Electronics', 'inStock': False}, {'id': 3, 'name': 'Notebook', 'price': 5.49, 'category': 'Stationery', 'inStock': True}, {'id': 4, 'name': 'Desk Lamp', 'price': 19.99, 'category': 'Home & Office', 'inStock': True}, {'id': 5, 'name': 'Travel Backpack', 'price': 39.95, 'category': 'Accessories', 'inStock': False}, {'id': 6, 'name': 'Running Shoes', 'price': 89.99, 'category': 'Sportswear', 'inStock': True}, {'id': 7, 'name': 'Smartphone Charger', 'price': 14.99, 'category': 'Electronics', 'inStock': True}, {'id': 8, 'name': 'Water Bottle', 'price': 9.95, 'category': 'Fitness', 'inStock': True}, {'id': 9, 'name': 'Yoga Mat', 'price': 29.99, 'category': 'Fitness', 'inStock': False}, {'id': 10, 'name': 'USB Flash Drive', 'price': 12.99, 'category': 'Electronics', 'inStock': True}]}\n"
     ]
    }
   ],
   "source": [
    "path = './Supporting_files/products.json'\n",
    "d1=json_load(path)\n",
    "print(type(d1))\n",
    "print(d1)"
   ]
  },
  {
   "cell_type": "code",
   "execution_count": 27,
   "metadata": {},
   "outputs": [
    {
     "name": "stdout",
     "output_type": "stream",
     "text": [
      "dict_keys(['products'])\n",
      "{'id': 2, 'name': 'Bluetooth Headphones', 'price': 49.99, 'category': 'Electronics', 'inStock': False}\n",
      "Electronics\n"
     ]
    }
   ],
   "source": [
    "print(d1.keys())\n",
    "print(d1['products'][1])\n",
    "print(d1['products'][1]['category'])"
   ]
  },
  {
   "cell_type": "code",
   "execution_count": 30,
   "metadata": {},
   "outputs": [],
   "source": [
    "students = {\n",
    "    \"211IT001\": {\n",
    "        \"Name\": \"Abhishek\",\n",
    "        \"CGPA\": 8.04,\n",
    "        \"Branch\": \"IT\",\n",
    "        \"skills\": [\"DSA\", \"CPP\", \"DevOps\"]\n",
    "    },\n",
    "    \"211IT002\": {\n",
    "        \"Name\": \"Aditya\",\n",
    "        \"CGPA\": 9.35,\n",
    "        \"Branch\": \"ECE\",\n",
    "        \"skills\": [\"IoT\", \"DSA\", \"ML\"]\n",
    "    }\n",
    "}\n",
    "\n",
    "path='./Supporting_files/students.json'\n",
    "with open(path,'w') as fptr:\n",
    "    json.dump(students, fptr)"
   ]
  }
 ],
 "metadata": {
  "kernelspec": {
   "display_name": "base",
   "language": "python",
   "name": "python3"
  },
  "language_info": {
   "codemirror_mode": {
    "name": "ipython",
    "version": 3
   },
   "file_extension": ".py",
   "mimetype": "text/x-python",
   "name": "python",
   "nbconvert_exporter": "python",
   "pygments_lexer": "ipython3",
   "version": "3.9.13"
  }
 },
 "nbformat": 4,
 "nbformat_minor": 2
}
