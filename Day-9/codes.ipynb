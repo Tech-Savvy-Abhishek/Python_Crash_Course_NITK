{
 "cells": [
  {
   "cell_type": "code",
   "execution_count": 199,
   "metadata": {},
   "outputs": [
    {
     "data": {
      "text/plain": [
       "'1.24.4'"
      ]
     },
     "execution_count": 199,
     "metadata": {},
     "output_type": "execute_result"
    }
   ],
   "source": [
    "import numpy as np\n",
    "np.__version__"
   ]
  },
  {
   "cell_type": "markdown",
   "metadata": {},
   "source": [
    "- `NumPy` is short for Numerical Python. \n",
    "- There is internal documentation. To access it type `np?`"
   ]
  },
  {
   "cell_type": "code",
   "execution_count": 200,
   "metadata": {},
   "outputs": [
    {
     "data": {
      "text/plain": [
       "[2, 4, 6, 8]"
      ]
     },
     "execution_count": 200,
     "metadata": {},
     "output_type": "execute_result"
    }
   ],
   "source": [
    "L1=list(range(2,10,2))\n",
    "L1"
   ]
  },
  {
   "cell_type": "code",
   "execution_count": 201,
   "metadata": {},
   "outputs": [
    {
     "name": "stdout",
     "output_type": "stream",
     "text": [
      "['2', '4', '6', '8']\n",
      "L2[0]= 2  is of type:  <class 'str'>\n"
     ]
    }
   ],
   "source": [
    "L2=[str(c) for c in L1]\n",
    "print(L2)\n",
    "print('L2[0]=',L2[0], ' is of type: ',type(L2[0]))"
   ]
  },
  {
   "cell_type": "code",
   "execution_count": 202,
   "metadata": {},
   "outputs": [
    {
     "name": "stdout",
     "output_type": "stream",
     "text": [
      "[True, 0, 3, 5, 'a']\n"
     ]
    },
    {
     "data": {
      "text/plain": [
       "[bool, int, int, int, str]"
      ]
     },
     "execution_count": 202,
     "metadata": {},
     "output_type": "execute_result"
    }
   ],
   "source": [
    "L3=[True,0,3,5,'a']\n",
    "print(L3)\n",
    "[type(items) for items in L3]"
   ]
  },
  {
   "cell_type": "markdown",
   "metadata": {},
   "source": [
    "**Exercise :** Create a list of numbers starting from 0 to 100 in steps of 10."
   ]
  },
  {
   "cell_type": "code",
   "execution_count": 203,
   "metadata": {},
   "outputs": [
    {
     "data": {
      "text/plain": [
       "[0, 10, 20, 30, 40, 50, 60, 70, 80, 90, 100]"
      ]
     },
     "execution_count": 203,
     "metadata": {},
     "output_type": "execute_result"
    }
   ],
   "source": [
    "L4=list(range(0,101,10))\n",
    "L4"
   ]
  },
  {
   "cell_type": "markdown",
   "metadata": {},
   "source": [
    "Read the following code and guess its output. Then run and see whether your guess was correct.\n",
    "```\n",
    "[[c,c+1,c+2] for c in [0, 4, 7]]\n",
    "```"
   ]
  },
  {
   "cell_type": "markdown",
   "metadata": {},
   "source": [
    "`[[0,1,2]]` is wrong because  \n",
    "`[0,4,7]` is a *list* and not *range(st,en,step)*"
   ]
  },
  {
   "cell_type": "code",
   "execution_count": 204,
   "metadata": {},
   "outputs": [
    {
     "data": {
      "text/plain": [
       "[[0, 1, 2], [4, 5, 6], [7, 8, 9]]"
      ]
     },
     "execution_count": 204,
     "metadata": {},
     "output_type": "execute_result"
    }
   ],
   "source": [
    "[[c, c+1,c+2] for c in [0, 4, 7]]"
   ]
  },
  {
   "cell_type": "markdown",
   "metadata": {},
   "source": [
    "### Why numpy?\n",
    "\n",
    "- less memory required\n",
    "- faster\n",
    "\n",
    "All elements of NumPy arrays will be of same type."
   ]
  },
  {
   "cell_type": "markdown",
   "metadata": {},
   "source": [
    "### Creating NumPy arrays from python list"
   ]
  },
  {
   "cell_type": "code",
   "execution_count": 205,
   "metadata": {},
   "outputs": [
    {
     "name": "stdout",
     "output_type": "stream",
     "text": [
      "[ 0  1  2  3  4  5  6  7  8  9 10 11 12 13 14 15 16 17 18 19 20 21 22 23\n",
      " 24 25 26 27 28 29 30 31 32 33 34 35 36 37 38 39 40 41 42 43 44 45 46 47\n",
      " 48 49 50 51 52 53 54 55 56 57 58 59 60 61 62 63 64 65 66 67 68 69 70 71\n",
      " 72 73 74 75 76 77 78 79 80 81 82 83 84 85 86 87 88 89 90 91 92 93 94 95\n",
      " 96 97 98 99]\n"
     ]
    }
   ],
   "source": [
    "L=list(range(100))\n",
    "N=np.array(L)\n",
    "print(N)"
   ]
  },
  {
   "cell_type": "markdown",
   "metadata": {},
   "source": [
    "If there are different data types in the list, then NumPy will upcast if possible.  \n",
    "In the following example integers are converted to float."
   ]
  },
  {
   "cell_type": "code",
   "execution_count": 206,
   "metadata": {},
   "outputs": [
    {
     "data": {
      "text/plain": [
       "[int, float, int, float]"
      ]
     },
     "execution_count": 206,
     "metadata": {},
     "output_type": "execute_result"
    }
   ],
   "source": [
    "[type(l) for l in [1, 4.2,7,9.2]]"
   ]
  },
  {
   "cell_type": "code",
   "execution_count": 207,
   "metadata": {},
   "outputs": [
    {
     "name": "stdout",
     "output_type": "stream",
     "text": [
      "[1.  4.2 7.  9.2]\n"
     ]
    },
    {
     "data": {
      "text/plain": [
       "[numpy.float64, numpy.float64, numpy.float64, numpy.float64]"
      ]
     },
     "execution_count": 207,
     "metadata": {},
     "output_type": "execute_result"
    }
   ],
   "source": [
    "N=np.array([1,4.2,7,9.2])\n",
    "print(N)\n",
    "[type(n) for n in N]"
   ]
  },
  {
   "cell_type": "markdown",
   "metadata": {},
   "source": [
    "We can explicitly set data type using keyword `dtype`."
   ]
  },
  {
   "cell_type": "code",
   "execution_count": 208,
   "metadata": {},
   "outputs": [
    {
     "name": "stdout",
     "output_type": "stream",
     "text": [
      "[1. 2. 3. 4.]\n"
     ]
    },
    {
     "data": {
      "text/plain": [
       "[numpy.float64, numpy.float64, numpy.float64, numpy.float64]"
      ]
     },
     "execution_count": 208,
     "metadata": {},
     "output_type": "execute_result"
    }
   ],
   "source": [
    "N=np.array([1,2,3,4], dtype='float')\n",
    "print(N)\n",
    "[type(n) for n in N]"
   ]
  },
  {
   "cell_type": "markdown",
   "metadata": {},
   "source": [
    "**Exercise:** What will happen if in the previous example `dtype` is set to `int`?  \n",
    "- Truncates digits after decimal point"
   ]
  },
  {
   "cell_type": "code",
   "execution_count": 209,
   "metadata": {},
   "outputs": [
    {
     "data": {
      "text/plain": [
       "array([ 1,  2,  7,  3, -1, -6])"
      ]
     },
     "execution_count": 209,
     "metadata": {},
     "output_type": "execute_result"
    }
   ],
   "source": [
    "N = np.array([1.8, 2.1, 7.88, 3.9999999999, -1.3, -6.9999], dtype='int')\n",
    "N"
   ]
  },
  {
   "cell_type": "code",
   "execution_count": 210,
   "metadata": {},
   "outputs": [
    {
     "data": {
      "text/plain": [
       "array([ 1.8   +0.j,  2.    +0.j,  7.88  +0.j,  4.    +0.j, -1.    +0.j,\n",
       "       -6.9999+0.j])"
      ]
     },
     "execution_count": 210,
     "metadata": {},
     "output_type": "execute_result"
    }
   ],
   "source": [
    "N = np.array([1.8, 2, 7.88, 3.9999999999, -1, -6.9999], dtype='complex')\n",
    "N"
   ]
  },
  {
   "cell_type": "markdown",
   "metadata": {},
   "source": [
    "**Multidimensional arrays:** We can create multidimensional arrays in numpy from *nested lists*."
   ]
  },
  {
   "cell_type": "code",
   "execution_count": 211,
   "metadata": {},
   "outputs": [
    {
     "data": {
      "text/plain": [
       "array([[2, 3, 4],\n",
       "       [4, 5, 6],\n",
       "       [6, 7, 8]])"
      ]
     },
     "execution_count": 211,
     "metadata": {},
     "output_type": "execute_result"
    }
   ],
   "source": [
    "np.array([range(i,i+3) for i in [2,4,6]])"
   ]
  },
  {
   "cell_type": "markdown",
   "metadata": {},
   "source": [
    "**Exercise :** Modify the following code to make it a 5x5 square array.\n",
    "\n",
    "```\n",
    "   np.array([range(i, i + 3) for i in [2, 4, 6, 8, 10]])\n",
    "```"
   ]
  },
  {
   "cell_type": "code",
   "execution_count": 212,
   "metadata": {},
   "outputs": [
    {
     "data": {
      "text/plain": [
       "array([[ 2,  3,  4,  5,  6],\n",
       "       [ 4,  5,  6,  7,  8],\n",
       "       [ 6,  7,  8,  9, 10],\n",
       "       [ 8,  9, 10, 11, 12],\n",
       "       [10, 11, 12, 13, 14]])"
      ]
     },
     "execution_count": 212,
     "metadata": {},
     "output_type": "execute_result"
    }
   ],
   "source": [
    "np.array([range(i,i+5) for i in [2,4,6,8,10]])"
   ]
  },
  {
   "cell_type": "markdown",
   "metadata": {},
   "source": [
    "### Creating numpy arrays with zeros, ones or full"
   ]
  },
  {
   "cell_type": "code",
   "execution_count": 213,
   "metadata": {},
   "outputs": [
    {
     "data": {
      "text/plain": [
       "array([0, 0, 0, 0, 0, 0, 0, 0, 0, 0])"
      ]
     },
     "execution_count": 213,
     "metadata": {},
     "output_type": "execute_result"
    }
   ],
   "source": [
    "# Create an array of 10 zeros of `int` type. Try changing it to float.\n",
    "np.zeros(10, dtype='int')"
   ]
  },
  {
   "cell_type": "code",
   "execution_count": 214,
   "metadata": {},
   "outputs": [
    {
     "data": {
      "text/plain": [
       "array([0., 0., 0., 0., 0., 0., 0., 0., 0., 0.])"
      ]
     },
     "execution_count": 214,
     "metadata": {},
     "output_type": "execute_result"
    }
   ],
   "source": [
    "np.zeros(10, dtype='float')"
   ]
  },
  {
   "cell_type": "code",
   "execution_count": 215,
   "metadata": {},
   "outputs": [
    {
     "data": {
      "text/plain": [
       "array([[0., 0., 0., 0., 0.],\n",
       "       [0., 0., 0., 0., 0.],\n",
       "       [0., 0., 0., 0., 0.],\n",
       "       [0., 0., 0., 0., 0.]])"
      ]
     },
     "execution_count": 215,
     "metadata": {},
     "output_type": "execute_result"
    }
   ],
   "source": [
    "# Create a 4X5 array of zeros of 'float' type\n",
    "np.zeros((4,5), dtype='float')  #(4,5) indicates 4 rows 5 cols"
   ]
  },
  {
   "cell_type": "code",
   "execution_count": 216,
   "metadata": {},
   "outputs": [
    {
     "data": {
      "text/plain": [
       "array([1, 1, 1, 1, 1, 1, 1, 1, 1, 1])"
      ]
     },
     "execution_count": 216,
     "metadata": {},
     "output_type": "execute_result"
    }
   ],
   "source": [
    "# Create an array of 10 ones of `int` type.\n",
    "np.ones(10, dtype='int')"
   ]
  },
  {
   "cell_type": "code",
   "execution_count": 217,
   "metadata": {},
   "outputs": [
    {
     "data": {
      "text/plain": [
       "array([3.14159265, 3.14159265, 3.14159265, 3.14159265, 3.14159265,\n",
       "       3.14159265, 3.14159265, 3.14159265, 3.14159265, 3.14159265])"
      ]
     },
     "execution_count": 217,
     "metadata": {},
     "output_type": "execute_result"
    }
   ],
   "source": [
    "# Create an array of 10 PI s\n",
    "np.full(10,np.pi)"
   ]
  },
  {
   "cell_type": "markdown",
   "metadata": {},
   "source": [
    "**Exercise :** Create a 4X5 array of ones of 'float' type"
   ]
  },
  {
   "cell_type": "code",
   "execution_count": 218,
   "metadata": {},
   "outputs": [
    {
     "data": {
      "text/plain": [
       "array([[1., 1., 1., 1., 1.],\n",
       "       [1., 1., 1., 1., 1.],\n",
       "       [1., 1., 1., 1., 1.],\n",
       "       [1., 1., 1., 1., 1.]])"
      ]
     },
     "execution_count": 218,
     "metadata": {},
     "output_type": "execute_result"
    }
   ],
   "source": [
    "np.ones((4,5), dtype='float')"
   ]
  },
  {
   "cell_type": "markdown",
   "metadata": {},
   "source": [
    "**Exercise :** Create a 4X5 array of 12.12"
   ]
  },
  {
   "cell_type": "code",
   "execution_count": 219,
   "metadata": {},
   "outputs": [
    {
     "data": {
      "text/plain": [
       "array([[12.12, 12.12, 12.12, 12.12, 12.12],\n",
       "       [12.12, 12.12, 12.12, 12.12, 12.12],\n",
       "       [12.12, 12.12, 12.12, 12.12, 12.12],\n",
       "       [12.12, 12.12, 12.12, 12.12, 12.12]])"
      ]
     },
     "execution_count": 219,
     "metadata": {},
     "output_type": "execute_result"
    }
   ],
   "source": [
    "np.full((4,5), 12.12)"
   ]
  },
  {
   "cell_type": "markdown",
   "metadata": {},
   "source": [
    "**Exercise :** Create a 3x4X5 array of 12.12"
   ]
  },
  {
   "cell_type": "code",
   "execution_count": 220,
   "metadata": {},
   "outputs": [
    {
     "data": {
      "text/plain": [
       "array([[[12.12, 12.12, 12.12, 12.12, 12.12],\n",
       "        [12.12, 12.12, 12.12, 12.12, 12.12],\n",
       "        [12.12, 12.12, 12.12, 12.12, 12.12],\n",
       "        [12.12, 12.12, 12.12, 12.12, 12.12]],\n",
       "\n",
       "       [[12.12, 12.12, 12.12, 12.12, 12.12],\n",
       "        [12.12, 12.12, 12.12, 12.12, 12.12],\n",
       "        [12.12, 12.12, 12.12, 12.12, 12.12],\n",
       "        [12.12, 12.12, 12.12, 12.12, 12.12]],\n",
       "\n",
       "       [[12.12, 12.12, 12.12, 12.12, 12.12],\n",
       "        [12.12, 12.12, 12.12, 12.12, 12.12],\n",
       "        [12.12, 12.12, 12.12, 12.12, 12.12],\n",
       "        [12.12, 12.12, 12.12, 12.12, 12.12]]])"
      ]
     },
     "execution_count": 220,
     "metadata": {},
     "output_type": "execute_result"
    }
   ],
   "source": [
    "np.full((3,4,5), 12.12)  # 3 matrices with 4 rows and 5 columns each"
   ]
  },
  {
   "cell_type": "markdown",
   "metadata": {},
   "source": [
    "### Create an array with arange"
   ]
  },
  {
   "cell_type": "code",
   "execution_count": 221,
   "metadata": {},
   "outputs": [
    {
     "name": "stdout",
     "output_type": "stream",
     "text": [
      "<class 'numpy.ndarray'>\n"
     ]
    },
    {
     "data": {
      "text/plain": [
       "array([ 1,  4,  7, 10, 13, 16, 19])"
      ]
     },
     "execution_count": 221,
     "metadata": {},
     "output_type": "execute_result"
    }
   ],
   "source": [
    "N=np.arange(1,20,3)\n",
    "print(type(N))\n",
    "N"
   ]
  },
  {
   "cell_type": "markdown",
   "metadata": {},
   "source": [
    "### Create an array with linspace"
   ]
  },
  {
   "cell_type": "code",
   "execution_count": 222,
   "metadata": {},
   "outputs": [
    {
     "data": {
      "text/plain": [
       "array([0.  , 0.25, 0.5 , 0.75, 1.  ])"
      ]
     },
     "execution_count": 222,
     "metadata": {},
     "output_type": "execute_result"
    }
   ],
   "source": [
    "np.linspace(0, 1, 5)"
   ]
  },
  {
   "cell_type": "markdown",
   "metadata": {},
   "source": [
    "### Identity matrix and empty array"
   ]
  },
  {
   "cell_type": "code",
   "execution_count": 223,
   "metadata": {},
   "outputs": [
    {
     "data": {
      "text/plain": [
       "array([[1., 0., 0., 0., 0.],\n",
       "       [0., 1., 0., 0., 0.],\n",
       "       [0., 0., 1., 0., 0.],\n",
       "       [0., 0., 0., 1., 0.],\n",
       "       [0., 0., 0., 0., 1.]])"
      ]
     },
     "execution_count": 223,
     "metadata": {},
     "output_type": "execute_result"
    }
   ],
   "source": [
    "np.eye(5) #5x5 identity matrix"
   ]
  },
  {
   "cell_type": "code",
   "execution_count": 224,
   "metadata": {},
   "outputs": [
    {
     "data": {
      "text/plain": [
       "array([[0., 0.],\n",
       "       [0., 0.],\n",
       "       [0., 0.]])"
      ]
     },
     "execution_count": 224,
     "metadata": {},
     "output_type": "execute_result"
    }
   ],
   "source": [
    "np.empty((3,2))"
   ]
  },
  {
   "cell_type": "markdown",
   "metadata": {},
   "source": [
    "### Attributes of NumPy Arrays\n",
    "\n",
    "Each numpy array has several attributes: `ndim` (the number of dimensions), `shape` (the size of each dimension), and `size` (the total size of the array) etc."
   ]
  },
  {
   "cell_type": "code",
   "execution_count": 225,
   "metadata": {},
   "outputs": [
    {
     "data": {
      "text/plain": [
       "array([[[1., 1., 1.],\n",
       "        [1., 1., 1.],\n",
       "        [1., 1., 1.],\n",
       "        [1., 1., 1.],\n",
       "        [1., 1., 1.]],\n",
       "\n",
       "       [[1., 1., 1.],\n",
       "        [1., 1., 1.],\n",
       "        [1., 1., 1.],\n",
       "        [1., 1., 1.],\n",
       "        [1., 1., 1.]]])"
      ]
     },
     "execution_count": 225,
     "metadata": {},
     "output_type": "execute_result"
    }
   ],
   "source": [
    "A=np.ones((2,5,3), dtype='float')\n",
    "A"
   ]
  },
  {
   "cell_type": "code",
   "execution_count": 226,
   "metadata": {},
   "outputs": [
    {
     "name": "stdout",
     "output_type": "stream",
     "text": [
      "3\n",
      "(2, 5, 3)\n",
      "30\n",
      "float64\n"
     ]
    }
   ],
   "source": [
    "print(A.ndim)\n",
    "print(A.shape)\n",
    "print(A.size)\n",
    "print(A.dtype)"
   ]
  },
  {
   "cell_type": "code",
   "execution_count": 227,
   "metadata": {},
   "outputs": [
    {
     "data": {
      "text/plain": [
       "array([[[[5, 5],\n",
       "         [5, 5]],\n",
       "\n",
       "        [[5, 5],\n",
       "         [5, 5]]],\n",
       "\n",
       "\n",
       "       [[[5, 5],\n",
       "         [5, 5]],\n",
       "\n",
       "        [[5, 5],\n",
       "         [5, 5]]]])"
      ]
     },
     "execution_count": 227,
     "metadata": {},
     "output_type": "execute_result"
    }
   ],
   "source": [
    "B=np.full((2,2,2,2), 5)\n",
    "B"
   ]
  },
  {
   "cell_type": "code",
   "execution_count": 228,
   "metadata": {},
   "outputs": [
    {
     "name": "stdout",
     "output_type": "stream",
     "text": [
      "4\n",
      "(2, 2, 2, 2)\n",
      "16\n",
      "int32\n"
     ]
    }
   ],
   "source": [
    "print(B.ndim)\n",
    "print(B.shape)\n",
    "print(B.size)\n",
    "print(B.dtype)"
   ]
  },
  {
   "cell_type": "markdown",
   "metadata": {},
   "source": [
    "# Indexing an array\n",
    "\n",
    "A[...,row_index, column_index]\n",
    "\n",
    "Indices starts from 0. Eg:- In a 2x3 array, row_index takes values 0 (first row) and 1 (second row); column_index takes values 0(first column), 1(second column) and 2(third column)."
   ]
  },
  {
   "cell_type": "code",
   "execution_count": 229,
   "metadata": {},
   "outputs": [
    {
     "name": "stdout",
     "output_type": "stream",
     "text": [
      "[1 2 3 4 5 6 7 8 9]\n",
      "1\n"
     ]
    }
   ],
   "source": [
    "A=np.arange(1,10)\n",
    "print(A)\n",
    "print(A[0])"
   ]
  },
  {
   "cell_type": "code",
   "execution_count": 230,
   "metadata": {},
   "outputs": [
    {
     "name": "stdout",
     "output_type": "stream",
     "text": [
      "IndexError\n"
     ]
    }
   ],
   "source": [
    "try:\n",
    "    A[10]\n",
    "except Exception as e:\n",
    "    print(e.__class__.__name__)"
   ]
  },
  {
   "cell_type": "code",
   "execution_count": 231,
   "metadata": {},
   "outputs": [
    {
     "data": {
      "text/plain": [
       "9"
      ]
     },
     "execution_count": 231,
     "metadata": {},
     "output_type": "execute_result"
    }
   ],
   "source": [
    "# Access last element\n",
    "A[-1]"
   ]
  },
  {
   "cell_type": "markdown",
   "metadata": {},
   "source": [
    "**Exercise :** Print first and last index of A"
   ]
  },
  {
   "cell_type": "code",
   "execution_count": 232,
   "metadata": {},
   "outputs": [
    {
     "name": "stdout",
     "output_type": "stream",
     "text": [
      "[1 2 3 4 5 6 7 8 9]\n",
      "1 9\n"
     ]
    }
   ],
   "source": [
    "print(A)\n",
    "print(A[0], A[-1])"
   ]
  },
  {
   "cell_type": "code",
   "execution_count": 233,
   "metadata": {},
   "outputs": [
    {
     "name": "stdout",
     "output_type": "stream",
     "text": [
      "[[ 1  2  3  4]\n",
      " [ 5  6  7  8]\n",
      " [ 9 10 11 12]]\n"
     ]
    },
    {
     "data": {
      "text/plain": [
       "2"
      ]
     },
     "execution_count": 233,
     "metadata": {},
     "output_type": "execute_result"
    }
   ],
   "source": [
    "B = np.array([[1, 2, 3, 4], [5, 6, 7, 8], [9, 10, 11, 12]])\n",
    "print(B)\n",
    "B[0, 1]"
   ]
  },
  {
   "cell_type": "markdown",
   "metadata": {},
   "source": [
    "**Exercise :** What are the index of 4, 6 and 10 in B?"
   ]
  },
  {
   "cell_type": "code",
   "execution_count": 234,
   "metadata": {},
   "outputs": [
    {
     "name": "stdout",
     "output_type": "stream",
     "text": [
      "4 6 10\n"
     ]
    }
   ],
   "source": [
    "print(B[0,-1], B[1,1], B[-1,1])"
   ]
  },
  {
   "cell_type": "markdown",
   "metadata": {},
   "source": [
    "**Exercise:** What wouuld be the output of B[-1,-2]?  \n",
    "- 11"
   ]
  },
  {
   "cell_type": "code",
   "execution_count": 235,
   "metadata": {},
   "outputs": [
    {
     "data": {
      "text/plain": [
       "11"
      ]
     },
     "execution_count": 235,
     "metadata": {},
     "output_type": "execute_result"
    }
   ],
   "source": [
    "B[-1,-2]"
   ]
  },
  {
   "cell_type": "markdown",
   "metadata": {},
   "source": [
    "### Array slicing\n",
    "\n",
    "A[start:stop:step]\n",
    "\n",
    "B[start:stop:step, start:stop:step]\n",
    "\n",
    "By default, start value is zero, stop value is last value and step is assumed to be one."
   ]
  },
  {
   "cell_type": "code",
   "execution_count": 236,
   "metadata": {},
   "outputs": [
    {
     "name": "stdout",
     "output_type": "stream",
     "text": [
      "(2, 2, 3)\n"
     ]
    },
    {
     "data": {
      "text/plain": [
       "array([[[ 1,  2,  3],\n",
       "        [ 4,  5,  6]],\n",
       "\n",
       "       [[11, 12, 13],\n",
       "        [14, 15, 16]]])"
      ]
     },
     "execution_count": 236,
     "metadata": {},
     "output_type": "execute_result"
    }
   ],
   "source": [
    "A = np.array([[[1, 2, 3], [4, 5, 6]], [[11, 12, 13], [14, 15, 16]]])\n",
    "print(A.shape)\n",
    "A"
   ]
  },
  {
   "cell_type": "code",
   "execution_count": 237,
   "metadata": {},
   "outputs": [
    {
     "data": {
      "text/plain": [
       "16"
      ]
     },
     "execution_count": 237,
     "metadata": {},
     "output_type": "execute_result"
    }
   ],
   "source": [
    "A[-1,-1,-1]"
   ]
  },
  {
   "cell_type": "code",
   "execution_count": 238,
   "metadata": {},
   "outputs": [
    {
     "name": "stdout",
     "output_type": "stream",
     "text": [
      "[1, 2, 3, 4, 5, 6, 7, 8, 9]\n",
      "[1, 2, 3, 4, 5, 6, 7, 8, 9]\n",
      "[1, 2, 3, 4, 5, 6, 7, 8, 9]\n",
      "8\n",
      "[3, 4, 5, 6, 7]\n"
     ]
    }
   ],
   "source": [
    "A = list(range(1,10))\n",
    "print(A,A[:],A[::], sep='\\n')\n",
    "print(A[7])\n",
    "print(A[2:7]) #A[7] = 8 is NOT INCLUDED"
   ]
  },
  {
   "cell_type": "code",
   "execution_count": 239,
   "metadata": {},
   "outputs": [
    {
     "name": "stdout",
     "output_type": "stream",
     "text": [
      "[1, 2, 3, 4, 5, 6, 7]\n",
      "[9, 8, 7, 6]\n"
     ]
    }
   ],
   "source": [
    "print(A[:7])\n",
    "print(A[-1:-5:-1])"
   ]
  },
  {
   "cell_type": "code",
   "execution_count": 240,
   "metadata": {},
   "outputs": [
    {
     "data": {
      "text/plain": [
       "array([[ 1,  2,  3,  4],\n",
       "       [ 5,  6,  7,  8],\n",
       "       [ 9, 10, 11, 12]])"
      ]
     },
     "execution_count": 240,
     "metadata": {},
     "output_type": "execute_result"
    }
   ],
   "source": [
    "B"
   ]
  },
  {
   "cell_type": "markdown",
   "metadata": {},
   "source": [
    "**Exercise:** Create a sub square array from B, containing `[[2,3],[6,7]]`."
   ]
  },
  {
   "cell_type": "code",
   "execution_count": 241,
   "metadata": {},
   "outputs": [
    {
     "data": {
      "text/plain": [
       "array([[2, 3],\n",
       "       [6, 7]])"
      ]
     },
     "execution_count": 241,
     "metadata": {},
     "output_type": "execute_result"
    }
   ],
   "source": [
    "B[0:2 , 1:3]  # row= 0,1 , col=1,2 elements B[0,1], B[0,2], B[1.1], B[1,2]"
   ]
  },
  {
   "cell_type": "markdown",
   "metadata": {},
   "source": [
    "**Exercise :** Access first column and second last column of B."
   ]
  },
  {
   "cell_type": "code",
   "execution_count": 242,
   "metadata": {},
   "outputs": [
    {
     "name": "stdout",
     "output_type": "stream",
     "text": [
      "[[1]\n",
      " [5]\n",
      " [9]]\n",
      "\n",
      "[[ 4]\n",
      " [ 8]\n",
      " [12]]\n"
     ]
    }
   ],
   "source": [
    "print(B[:,0:1], end='\\n\\n')\n",
    "print(B[:, -1:])"
   ]
  },
  {
   "cell_type": "code",
   "execution_count": 243,
   "metadata": {},
   "outputs": [
    {
     "name": "stdout",
     "output_type": "stream",
     "text": [
      "[1 5 9] (3,) 1\n",
      "\n",
      "[[1]\n",
      " [5]\n",
      " [9]] (3, 1) 2\n"
     ]
    }
   ],
   "source": [
    "print(B[:,0], B[:,0].shape, B[:,0].ndim, end='\\n\\n')\n",
    "print(B[:, 0:1], B[:, 0:1].shape,B[:,0:1].ndim)"
   ]
  },
  {
   "cell_type": "markdown",
   "metadata": {},
   "source": [
    "**Exercise:** Create a sub square array from B, containing `[[2,10][4,12]]`"
   ]
  },
  {
   "cell_type": "code",
   "execution_count": 244,
   "metadata": {},
   "outputs": [
    {
     "name": "stdout",
     "output_type": "stream",
     "text": [
      "[[ 1  2  3  4]\n",
      " [ 5  6  7  8]\n",
      " [ 9 10 11 12]]\n",
      "[[ 2 10]\n",
      " [ 4 12]]\n"
     ]
    }
   ],
   "source": [
    "print(B)\n",
    "print(B[::2, 1::2].transpose())"
   ]
  },
  {
   "cell_type": "markdown",
   "metadata": {},
   "source": [
    "### Reshaping of arrays\n",
    "\n",
    "One can reshape an array using `reshape` method."
   ]
  },
  {
   "cell_type": "code",
   "execution_count": 245,
   "metadata": {},
   "outputs": [
    {
     "name": "stdout",
     "output_type": "stream",
     "text": [
      "[1 2 3 4 5 6 7 8 9]\n"
     ]
    },
    {
     "data": {
      "text/plain": [
       "(9,)"
      ]
     },
     "execution_count": 245,
     "metadata": {},
     "output_type": "execute_result"
    }
   ],
   "source": [
    "A = np.array([1, 2, 3, 4, 5, 6, 7, 8, 9])\n",
    "print(A)\n",
    "A.shape"
   ]
  },
  {
   "cell_type": "code",
   "execution_count": 246,
   "metadata": {},
   "outputs": [
    {
     "name": "stdout",
     "output_type": "stream",
     "text": [
      "[[1 2 3]\n",
      " [4 5 6]\n",
      " [7 8 9]]\n"
     ]
    },
    {
     "data": {
      "text/plain": [
       "(3, 3)"
      ]
     },
     "execution_count": 246,
     "metadata": {},
     "output_type": "execute_result"
    }
   ],
   "source": [
    "A=A.reshape(3,3)\n",
    "print(A)\n",
    "A.shape"
   ]
  },
  {
   "cell_type": "code",
   "execution_count": 247,
   "metadata": {},
   "outputs": [
    {
     "name": "stdout",
     "output_type": "stream",
     "text": [
      "[[ 1  2  3  4]\n",
      " [ 5  6  7  8]\n",
      " [ 9 10 11 12]]\n",
      "(3, 4)\n",
      "\n",
      "[[ 1  2  3  4  5  6]\n",
      " [ 7  8  9 10 11 12]]\n",
      "(2, 6)\n"
     ]
    }
   ],
   "source": [
    "print(B)\n",
    "print(B.shape,end='\\n\\n')\n",
    "B=B.reshape(2,6)\n",
    "print(B)\n",
    "print(B.shape)"
   ]
  },
  {
   "cell_type": "code",
   "execution_count": 248,
   "metadata": {},
   "outputs": [
    {
     "name": "stdout",
     "output_type": "stream",
     "text": [
      "[ 1  2  3  4  5  6  7  8  9 10 11 12]\n"
     ]
    },
    {
     "data": {
      "text/plain": [
       "(12,)"
      ]
     },
     "execution_count": 248,
     "metadata": {},
     "output_type": "execute_result"
    }
   ],
   "source": [
    "B=B.reshape(B.size,) #Straighten\n",
    "print(B)\n",
    "B.shape"
   ]
  },
  {
   "cell_type": "markdown",
   "metadata": {},
   "source": [
    "### Concatenation (joining together)\n",
    "Joining of two arrays in NumPy, is primarily accomplished using the routines  \n",
    "np.concatenate, np.vstack, and np.hstack."
   ]
  },
  {
   "cell_type": "code",
   "execution_count": 249,
   "metadata": {},
   "outputs": [
    {
     "name": "stdout",
     "output_type": "stream",
     "text": [
      "X1:\n",
      " [[1 2 3 4]\n",
      " [5 6 7 8]]\n",
      "\n",
      "X2:\n",
      " [[ 9 10 11 12]\n",
      " [13 14 15 16]]\n"
     ]
    }
   ],
   "source": [
    "x1 = np.array([[1, 2,3,4],[5,6,7,8]])\n",
    "x2 = np.array([[9, 10,11,12],[13,14,15,16]])\n",
    "print('X1:\\n',x1)\n",
    "print('\\nX2:\\n',x2)"
   ]
  },
  {
   "cell_type": "code",
   "execution_count": 250,
   "metadata": {},
   "outputs": [
    {
     "data": {
      "text/plain": [
       "array([[ 1,  2,  3,  4],\n",
       "       [ 5,  6,  7,  8],\n",
       "       [ 9, 10, 11, 12],\n",
       "       [13, 14, 15, 16]])"
      ]
     },
     "execution_count": 250,
     "metadata": {},
     "output_type": "execute_result"
    }
   ],
   "source": [
    "x3 = np.concatenate((x1, x2))  # adds X2 as subsequent rows to x1 BUT x1,x2 are not modified\n",
    "x3"
   ]
  },
  {
   "cell_type": "code",
   "execution_count": 251,
   "metadata": {},
   "outputs": [
    {
     "data": {
      "text/plain": [
       "array([[ 1,  2,  3,  4,  9, 10, 11, 12],\n",
       "       [ 5,  6,  7,  8, 13, 14, 15, 16]])"
      ]
     },
     "execution_count": 251,
     "metadata": {},
     "output_type": "execute_result"
    }
   ],
   "source": [
    "x4 = np.concatenate((x1,x2), axis=1) # adds x2 as subsequent columns to x1 BUT x1,x2 are not modified\n",
    "x4"
   ]
  },
  {
   "cell_type": "markdown",
   "metadata": {},
   "source": [
    "### Copying an array"
   ]
  },
  {
   "cell_type": "code",
   "execution_count": 252,
   "metadata": {},
   "outputs": [
    {
     "data": {
      "text/plain": [
       "array([[ 9, 10, 11, 12],\n",
       "       [13, 14, 15, 16]])"
      ]
     },
     "execution_count": 252,
     "metadata": {},
     "output_type": "execute_result"
    }
   ],
   "source": [
    "x5 = x2.copy()  # This is how we copy (new copy) arrays to a variable.\n",
    "x5  \n",
    "# x5 = x2[0] copies by reference"
   ]
  },
  {
   "cell_type": "code",
   "execution_count": 253,
   "metadata": {},
   "outputs": [
    {
     "name": "stdout",
     "output_type": "stream",
     "text": [
      "N1: [1 2 3]\n",
      "N2: [1 2 3]\n",
      "N1: [1 2 3]\n",
      "N2: [99  2  3]\n",
      "N1: [1 2 3]\n",
      "N3: [1 2 3]\n",
      "N1: [99  2  3]\n",
      "N3: [99  2  3]\n"
     ]
    }
   ],
   "source": [
    "N1=np.array([1,2,3])\n",
    "N2=N1.copy() #using .copy()\n",
    "print('N1:',N1)\n",
    "print('N2:', N2)\n",
    "N2[0]=99\n",
    "print('N1:', N1)\n",
    "print('N2:', N2)\n",
    "N3=N1 #assigning directly\n",
    "print('N1:', N1)\n",
    "print('N3:', N3)\n",
    "N3[0] = 99\n",
    "print('N1:', N1)\n",
    "print('N3:', N3) #both N1[0] and N3[0] are modified"
   ]
  },
  {
   "cell_type": "markdown",
   "metadata": {},
   "source": [
    "`np.vstack` and `np.hstack` are used if we have two arrays of different dimensions."
   ]
  },
  {
   "cell_type": "code",
   "execution_count": 254,
   "metadata": {},
   "outputs": [
    {
     "data": {
      "text/plain": [
       "array([[ 1,  2,  3,  4],\n",
       "       [ 5,  6,  7,  8],\n",
       "       [ 9, 10, 11, 12],\n",
       "       [13, 14, 15, 16]])"
      ]
     },
     "execution_count": 254,
     "metadata": {},
     "output_type": "execute_result"
    }
   ],
   "source": [
    "np.vstack((x1, x5))"
   ]
  },
  {
   "cell_type": "code",
   "execution_count": 255,
   "metadata": {},
   "outputs": [
    {
     "data": {
      "text/plain": [
       "array([[ 1,  2,  3,  4,  9, 10, 11, 12],\n",
       "       [ 5,  6,  7,  8, 13, 14, 15, 16]])"
      ]
     },
     "execution_count": 255,
     "metadata": {},
     "output_type": "execute_result"
    }
   ],
   "source": [
    "np.hstack((x1,x5))"
   ]
  },
  {
   "cell_type": "markdown",
   "metadata": {},
   "source": [
    "## NumPy allows us to write shorter codes"
   ]
  },
  {
   "cell_type": "markdown",
   "metadata": {},
   "source": [
    "**Exercise:** Write a function to return reciprocals of a list of numbers without and using functionalities of numpy."
   ]
  },
  {
   "cell_type": "code",
   "execution_count": 256,
   "metadata": {},
   "outputs": [],
   "source": [
    "# Without numpy method-1\n",
    "def reciprocal_list(LL):\n",
    "    output = []\n",
    "    for l in LL:\n",
    "        output.append(1./l)\n",
    "    return output"
   ]
  },
  {
   "cell_type": "code",
   "execution_count": 257,
   "metadata": {},
   "outputs": [
    {
     "data": {
      "text/plain": [
       "[1.0,\n",
       " 0.5,\n",
       " 0.3333333333333333,\n",
       " 0.25,\n",
       " 0.2,\n",
       " 0.16666666666666666,\n",
       " 0.14285714285714285,\n",
       " 0.125,\n",
       " 0.1111111111111111,\n",
       " 0.1]"
      ]
     },
     "execution_count": 257,
     "metadata": {},
     "output_type": "execute_result"
    }
   ],
   "source": [
    "A = range(1, 11)\n",
    "reciprocal_list(A)  # Took six lines"
   ]
  },
  {
   "cell_type": "code",
   "execution_count": 258,
   "metadata": {},
   "outputs": [
    {
     "data": {
      "text/plain": [
       "array([1.        , 0.5       , 0.33333333, 0.25      , 0.2       ,\n",
       "       0.16666667, 0.14285714, 0.125     , 0.11111111, 0.1       ])"
      ]
     },
     "execution_count": 258,
     "metadata": {},
     "output_type": "execute_result"
    }
   ],
   "source": [
    "# Using numpy array\n",
    "A = np.arange(1, 11)\n",
    "1./A  # Just one line!"
   ]
  },
  {
   "cell_type": "markdown",
   "metadata": {},
   "source": [
    "### NumPy is faster too!"
   ]
  },
  {
   "cell_type": "code",
   "execution_count": 259,
   "metadata": {},
   "outputs": [
    {
     "name": "stdout",
     "output_type": "stream",
     "text": [
      "31.7 ms ± 1.5 ms per loop (mean ± std. dev. of 7 runs, 100 loops each)\n"
     ]
    }
   ],
   "source": [
    "#Without numpy - method-1\n",
    "A = np.arange(1.,100000)\n",
    "%timeit -n 100 reciprocal_list(A)"
   ]
  },
  {
   "cell_type": "code",
   "execution_count": 260,
   "metadata": {},
   "outputs": [
    {
     "name": "stdout",
     "output_type": "stream",
     "text": [
      "11.7 ms ± 539 µs per loop (mean ± std. dev. of 7 runs, 100 loops each)\n"
     ]
    }
   ],
   "source": [
    "#Without numpy - method-2\n",
    "%timeit -n 100 [1/x for x in range(1,100001)]"
   ]
  },
  {
   "cell_type": "code",
   "execution_count": 261,
   "metadata": {},
   "outputs": [
    {
     "name": "stdout",
     "output_type": "stream",
     "text": [
      "72.4 µs ± 3.33 µs per loop (mean ± std. dev. of 7 runs, 100 loops each)\n"
     ]
    }
   ],
   "source": [
    "#With numpy\n",
    "%timeit -n 100 1./A"
   ]
  },
  {
   "cell_type": "markdown",
   "metadata": {},
   "source": [
    "The method using NumPy is faster.  \n",
    "In this approach reciprocal is applied to the entire array instead of applying it to each element separately.  \n",
    "This approach is called **vectorization**.  \n",
    "\n",
    "**Important lesson from previous exercise is \"Never use loops if you can use vectorization in NumPy\"**\n",
    "\n",
    "Vectorization makes code readable and faster.  \n",
    "Formulas can be implemented very conveniently."
   ]
  },
  {
   "cell_type": "markdown",
   "metadata": {},
   "source": [
    "### Vectorized arithmetical Operations"
   ]
  },
  {
   "cell_type": "code",
   "execution_count": 262,
   "metadata": {},
   "outputs": [
    {
     "name": "stdout",
     "output_type": "stream",
     "text": [
      "x = [0 1 2 3 4]\n",
      "x + 5 = [5 6 7 8 9]\n",
      "x - 5 = [-5 -4 -3 -2 -1]\n",
      "x * 2 = [0 2 4 6 8]\n",
      "x / 2 = [0.  0.5 1.  1.5 2. ]\n",
      "x // 2 = [0 0 1 1 2]\n",
      "-x = [ 0 -1 -2 -3 -4]\n",
      "x ** 2 =  [ 0  1  4  9 16]\n",
      "x % 2  =  [0 1 0 1 0]\n"
     ]
    }
   ],
   "source": [
    "x=np.arange(5)\n",
    "print('x =',x)\n",
    "print('x + 5 =',x+5)\n",
    "print('x - 5 =',x-5)\n",
    "print('x * 2 =',x*2)\n",
    "print('x / 2 =', x / 2)\n",
    "print('x // 2 =', x // 2)  # floor division\n",
    "print('-x =',-x)\n",
    "print(\"x ** 2 = \", x ** 2)\n",
    "print(\"x % 2  = \", x % 2)"
   ]
  },
  {
   "cell_type": "markdown",
   "metadata": {},
   "source": [
    "### Vectoried trigonometric operations"
   ]
  },
  {
   "cell_type": "code",
   "execution_count": 263,
   "metadata": {},
   "outputs": [],
   "source": [
    "theta = np.linspace(0, np.pi, 3)"
   ]
  },
  {
   "cell_type": "code",
   "execution_count": 264,
   "metadata": {},
   "outputs": [
    {
     "name": "stdout",
     "output_type": "stream",
     "text": [
      "theta      =  [0.         1.57079633 3.14159265]\n",
      "sin(theta) =  [0.0000000e+00 1.0000000e+00 1.2246468e-16]\n",
      "cos(theta) =  [ 1.000000e+00  6.123234e-17 -1.000000e+00]\n",
      "tan(theta) =  [ 0.00000000e+00  1.63312394e+16 -1.22464680e-16]\n"
     ]
    }
   ],
   "source": [
    "print(\"theta      = \", theta)\n",
    "print(\"sin(theta) = \", np.sin(theta))\n",
    "print(\"cos(theta) = \", np.cos(theta))\n",
    "print(\"tan(theta) = \", np.tan(theta))"
   ]
  },
  {
   "cell_type": "code",
   "execution_count": 265,
   "metadata": {},
   "outputs": [
    {
     "data": {
      "text/plain": [
       "0.49999999999999994"
      ]
     },
     "execution_count": 265,
     "metadata": {},
     "output_type": "execute_result"
    }
   ],
   "source": [
    "np.sin(np.deg2rad(30))"
   ]
  },
  {
   "cell_type": "code",
   "execution_count": 266,
   "metadata": {},
   "outputs": [
    {
     "name": "stdout",
     "output_type": "stream",
     "text": [
      "x     = [1, 2, 3]\n",
      "e^x   = [ 2.71828183  7.3890561  20.08553692]\n"
     ]
    }
   ],
   "source": [
    "x = [1, 2, 3]\n",
    "print(\"x     =\", x)\n",
    "print(\"e^x   =\", np.exp(x))"
   ]
  },
  {
   "cell_type": "code",
   "execution_count": 267,
   "metadata": {},
   "outputs": [
    {
     "name": "stdout",
     "output_type": "stream",
     "text": [
      "x        = [1, 2, 4, 10]\n",
      "ln(x)    = [0.         0.69314718 1.38629436 2.30258509]\n",
      "log10(x) = [0.         0.30103    0.60205999 1.        ]\n"
     ]
    }
   ],
   "source": [
    "x = [1, 2, 4, 10]\n",
    "print(\"x        =\", x)\n",
    "print(\"ln(x)    =\", np.log(x))\n",
    "print(\"log10(x) =\", np.log10(x))"
   ]
  },
  {
   "cell_type": "markdown",
   "metadata": {},
   "source": [
    "### Min, Maximum, Std. Dev. etc."
   ]
  },
  {
   "cell_type": "code",
   "execution_count": 273,
   "metadata": {},
   "outputs": [
    {
     "name": "stdout",
     "output_type": "stream",
     "text": [
      "[0.06885756 0.13313564 0.95164895 0.11102319 0.58767385]\n"
     ]
    }
   ],
   "source": [
    "A = np.random.rand(5)  # Creates an array of 10 random numbers\n",
    "print(A)"
   ]
  },
  {
   "cell_type": "code",
   "execution_count": 274,
   "metadata": {},
   "outputs": [
    {
     "name": "stdout",
     "output_type": "stream",
     "text": [
      "Sum: 1.852339194609772\n",
      "Max: 0.9516489537690773\n",
      "Min: 0.06885756372329366\n",
      "Mean: 0.3704678389219544\n",
      "Std Dev: 0.34628219532899984\n"
     ]
    }
   ],
   "source": [
    "print('Sum:', A.sum())\n",
    "print('Max:', A.max())\n",
    "print('Min:', A.min())\n",
    "print('Mean:',A.mean())\n",
    "print('Std Dev:', A.std())"
   ]
  },
  {
   "cell_type": "markdown",
   "metadata": {},
   "source": [
    "**Exercise**. A fair unbiased coin can be modelled using `np.random`.  \n",
    "Understand the code and then modify it to make it a biased coin which gives head 60% of the time."
   ]
  },
  {
   "cell_type": "code",
   "execution_count": 279,
   "metadata": {},
   "outputs": [],
   "source": [
    "x=np.random.rand(100000)"
   ]
  },
  {
   "cell_type": "code",
   "execution_count": 282,
   "metadata": {},
   "outputs": [
    {
     "name": "stdout",
     "output_type": "stream",
     "text": [
      "Number of heads =  50430\n",
      "Number of tails =  49570\n"
     ]
    }
   ],
   "source": [
    "# Results from coin toss of a fair coin can be modelled as :\n",
    "H=np.sum(x>0.5)\n",
    "T=x.size-H\n",
    "print(\"Number of heads = \", H)\n",
    "print(\"Number of tails = \", T)"
   ]
  },
  {
   "cell_type": "code",
   "execution_count": 283,
   "metadata": {},
   "outputs": [
    {
     "name": "stdout",
     "output_type": "stream",
     "text": [
      "Number of heads =  60180\n",
      "Number of tails =  39820\n"
     ]
    }
   ],
   "source": [
    "#method-1\n",
    "H=np.sum(x>0.4) #biased coin simulation\n",
    "T=x.size-H\n",
    "print(\"Number of heads = \", H)\n",
    "print(\"Number of tails = \", T)"
   ]
  },
  {
   "cell_type": "code",
   "execution_count": 288,
   "metadata": {},
   "outputs": [
    {
     "name": "stdout",
     "output_type": "stream",
     "text": [
      "Number of heads =  59927\n",
      "Number of tails =  40073\n"
     ]
    }
   ],
   "source": [
    "#method-2\n",
    "result = np.random.choice([1,0], size=100000, p=[0.6, 0.4])\n",
    "H=result.sum()\n",
    "T=result.size-H\n",
    "print(\"Number of heads = \", H)\n",
    "print(\"Number of tails = \", T)"
   ]
  }
 ],
 "metadata": {
  "kernelspec": {
   "display_name": "base",
   "language": "python",
   "name": "python3"
  },
  "language_info": {
   "codemirror_mode": {
    "name": "ipython",
    "version": 3
   },
   "file_extension": ".py",
   "mimetype": "text/x-python",
   "name": "python",
   "nbconvert_exporter": "python",
   "pygments_lexer": "ipython3",
   "version": "3.9.13"
  }
 },
 "nbformat": 4,
 "nbformat_minor": 2
}
