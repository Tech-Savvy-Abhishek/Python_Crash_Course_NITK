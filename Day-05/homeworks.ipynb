{
 "cells": [
  {
   "cell_type": "markdown",
   "metadata": {},
   "source": [
    "## **Homework-1:**  \n",
    "### **Task:**  \n",
    "Estimate the value of `e` and print the series"
   ]
  },
  {
   "cell_type": "code",
   "execution_count": 20,
   "metadata": {},
   "outputs": [
    {
     "name": "stdout",
     "output_type": "stream",
     "text": [
      "1/0! + 1/1! + 1/2! + 1/3! + 1/4! + 1/5! + 1/6! + 1/7! + 1/8! + 1/9! + ...\n",
      "Estimated value of e = 2.7182815255731922\n"
     ]
    }
   ],
   "source": [
    "def e(n):\n",
    "    acc = 1.0\n",
    "    fact = 1\n",
    "    print(f'1/0!' ,end=' + ')\n",
    "    for i in range(1, n):\n",
    "        fact *= i\n",
    "        acc += 1/fact\n",
    "        print(f'1/{i}!', end=' + ')\n",
    "    print('...')    \n",
    "    return acc\n",
    "\n",
    "print('Estimated value of e =',e(10))\n"
   ]
  },
  {
   "cell_type": "markdown",
   "metadata": {},
   "source": [
    "## **Homework-2: Count pnz**  \n",
    "\n",
    "### **Task:**  \n",
    "Count positives, negatives and zeroes  "
   ]
  },
  {
   "cell_type": "code",
   "execution_count": 5,
   "metadata": {},
   "outputs": [
    {
     "name": "stdout",
     "output_type": "stream",
     "text": [
      "List of numbers: [-73, 855, 0, -166, -515, -484, -837, 0, 635, 490]\n",
      "Positives: 3\n",
      "Negatives: 5\n",
      "Zeros: 2\n",
      "\n"
     ]
    }
   ],
   "source": [
    "import random\n",
    "\n",
    "def count_pnz(numbers):\n",
    "\n",
    "    pnz = [0, 0, 0]\n",
    "    for number in numbers:\n",
    "        if number > 0:\n",
    "            pnz[0] += 1\n",
    "        elif number < 0:\n",
    "            pnz[1] += 1\n",
    "        else:\n",
    "            pnz[2] += 1\n",
    "    return pnz\n",
    "\n",
    "\n",
    "numbers = []\n",
    "for i in range(10):\n",
    "    numbers.append(random.randint(-1, 1)*random.randint(1, 1000))\n",
    "\n",
    "print('List of numbers:', numbers)\n",
    "pnz = count_pnz(numbers)\n",
    "print(f'Positives: {pnz[0]}\\nNegatives: {pnz[1]}\\nZeros: {pnz[2]}\\n')"
   ]
  },
  {
   "cell_type": "markdown",
   "metadata": {},
   "source": [
    "## **Homework-3: A2i-Relations**  \n",
    "\n",
    "### **Task:**  \n",
    "Given an integer `n` and a list of integers, check if each item in the list is a multiple of `n`. Return a list of `True` and `False` values corresponding to each item in the list. Note that `0` is always considered a multiple.  "
   ]
  },
  {
   "cell_type": "code",
   "execution_count": 7,
   "metadata": {},
   "outputs": [
    {
     "name": "stdout",
     "output_type": "stream",
     "text": [
      "[82, 23, 86, 80, 10, 7, 56, 91, 75, 84, 70, 10, 50, 9, 77, 50, 26, 34, 22, 17]\n",
      "[False, False, False, False, False, True, True, True, False, True, True, False, False, False, True, False, False, False, False, False]\n",
      "6\n"
     ]
    }
   ],
   "source": [
    "import random\n",
    "def relations(n, list1):\n",
    "    result=[]\n",
    "    for number in list1:\n",
    "        if number%n==0:\n",
    "            result.append(True)\n",
    "        else:\n",
    "            result.append(False)\n",
    "    return result\n",
    "\n",
    "n=7\n",
    "#list comprehension [exp for x in range()]\n",
    "# _ ignore the loop variable\n",
    "list1=[random.randint(1,100) for _ in range(20)]\n",
    "print(list1)\n",
    "\n",
    "print(relations(n, list1))\n",
    "print(sum(relations(n, list1)))"
   ]
  },
  {
   "cell_type": "markdown",
   "metadata": {},
   "source": [
    "## **Homework-4: Chocolates**  \n",
    "\n",
    "### **Task:**  \n",
    "Chocolates are sold only in 3 types of packets containing `6`,`9` and `20` chocolates.\n",
    "Chocolates are not sold loose. What is the largest number of chocolates that\n",
    "cant be sold? In other words, beyond this number, all other number of chocolates\n",
    "can be sold by suitable combinations of the 3 packets."
   ]
  },
  {
   "cell_type": "code",
   "execution_count": 3,
   "metadata": {},
   "outputs": [
    {
     "name": "stdout",
     "output_type": "stream",
     "text": [
      "43\n"
     ]
    }
   ],
   "source": [
    "def is_possible_to_construct(n):\n",
    "    for i in range(n//6+1):\n",
    "        for j in range(n//9+1):\n",
    "            for k in range(n//20+1):\n",
    "                if 6*i + 9*j + 20*k == n:\n",
    "                    return True\n",
    "    return False\n",
    "\n",
    "ans=-1\n",
    "for i in range(1000):\n",
    "    if not is_possible_to_construct(i):\n",
    "        ans=i\n",
    "\n",
    "print(ans)"
   ]
  },
  {
   "cell_type": "code",
   "execution_count": 4,
   "metadata": {},
   "outputs": [],
   "source": [
    "def compute_lcm(x, y):\n",
    "\n",
    "   # choose the greater number\n",
    "   if x > y:\n",
    "       greater = x\n",
    "   else:\n",
    "       greater = y\n",
    "\n",
    "   while (True):\n",
    "       if ((greater % x == 0) and (greater % y == 0)):\n",
    "           lcm = greater\n",
    "           break\n",
    "       greater += 1\n",
    "\n",
    "   return lcm"
   ]
  },
  {
   "cell_type": "code",
   "execution_count": 6,
   "metadata": {},
   "outputs": [
    {
     "data": {
      "text/plain": [
       "43"
      ]
     },
     "execution_count": 6,
     "metadata": {},
     "output_type": "execute_result"
    }
   ],
   "source": [
    "compute_lcm(9,6)+compute_lcm(20,6)-9-6-20"
   ]
  }
 ],
 "metadata": {
  "kernelspec": {
   "display_name": "base",
   "language": "python",
   "name": "python3"
  },
  "language_info": {
   "codemirror_mode": {
    "name": "ipython",
    "version": 3
   },
   "file_extension": ".py",
   "mimetype": "text/x-python",
   "name": "python",
   "nbconvert_exporter": "python",
   "pygments_lexer": "ipython3",
   "version": "3.9.13"
  }
 },
 "nbformat": 4,
 "nbformat_minor": 2
}
