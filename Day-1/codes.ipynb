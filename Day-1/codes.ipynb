{
 "cells": [
  {
   "cell_type": "markdown",
   "metadata": {},
   "source": [
    "## Given two numbers a and b, check if a is a multiple of b"
   ]
  },
  {
   "cell_type": "code",
   "execution_count": 3,
   "metadata": {},
   "outputs": [
    {
     "name": "stdout",
     "output_type": "stream",
     "text": [
      "81 is a multiple of 9\n",
      "83 is not a multiple of 5\n"
     ]
    }
   ],
   "source": [
    "a=81\n",
    "b=9\n",
    "\n",
    "if a%b==0:\n",
    "    print(a,'is a multiple of',b)\n",
    "else:\n",
    "    print(a,'is not a multiple of',b) \n",
    "\n",
    "a = 83\n",
    "b = 5\n",
    "\n",
    "if a % b == 0:\n",
    "    print(a, 'is a multiple of', b)\n",
    "else:\n",
    "    print(a, 'is not a multiple of', b)"
   ]
  },
  {
   "cell_type": "markdown",
   "metadata": {},
   "source": [
    "## Check if the given number is a perfect square"
   ]
  },
  {
   "cell_type": "code",
   "execution_count": null,
   "metadata": {},
   "outputs": [
    {
     "name": "stdout",
     "output_type": "stream",
     "text": [
      "82 is not a perfect square\n"
     ]
    }
   ],
   "source": [
    "#approach 1\n",
    "#any number from 81 to 99 when raised to power 0.5 and rounded down using \n",
    "#int() function would give 9 and 100 would give 10\n",
    "#so only 9*9 is equal to 81. any other number like 82,83,...99 would not be\n",
    "#equal to 9*9\n",
    "num=81\n",
    "\n",
    "root=int(num**0.5)\n",
    "if root*root == num:\n",
    "    print(num, 'is a perfect square')\n",
    "else:\n",
    "    print(num, 'is not a perfect square')"
   ]
  },
  {
   "cell_type": "code",
   "execution_count": 7,
   "metadata": {},
   "outputs": [
    {
     "name": "stdout",
     "output_type": "stream",
     "text": [
      "145 is not a perfect square\n"
     ]
    }
   ],
   "source": [
    "#approach 2\n",
    "# using the idea 10.000=10  and 10.001 !=10 and int(10.000) or int(10.001) is\n",
    "#equal to 10 and only perfect squares will have only zeros after decimal point when\n",
    "#raised to the power 0.5\n",
    "\n",
    "num = 145\n",
    "root = num**0.5\n",
    "if root == int(root):\n",
    "    print(num, 'is a perfect square')\n",
    "else:\n",
    "    print(num, 'is not a perfect square')"
   ]
  },
  {
   "cell_type": "markdown",
   "metadata": {},
   "source": [
    "## Create a function to check if the given number is even"
   ]
  },
  {
   "cell_type": "code",
   "execution_count": 7,
   "metadata": {},
   "outputs": [
    {
     "name": "stdout",
     "output_type": "stream",
     "text": [
      "226 is an even number\n",
      "71 is not an even number\n"
     ]
    }
   ],
   "source": [
    "def isEven(num):\n",
    "    if num%2==0:\n",
    "        print(num, 'is an even number')\n",
    "    else:\n",
    "        print(num, 'is not an even number')\n",
    "\n",
    "isEven(226) \n",
    "isEven(71)       "
   ]
  },
  {
   "cell_type": "markdown",
   "metadata": {},
   "source": [
    "## Create a function to check if the given number is multiple of the other number"
   ]
  },
  {
   "cell_type": "code",
   "execution_count": 8,
   "metadata": {},
   "outputs": [
    {
     "name": "stdout",
     "output_type": "stream",
     "text": [
      "26 is a multiple of 13\n",
      "13 is not a multiple of 16\n",
      "26 is not a multiple of 5\n"
     ]
    }
   ],
   "source": [
    "def isMultipleOf(a,b):\n",
    "    if a>=b and a%b==0:\n",
    "        print(a,'is a multiple of',b)\n",
    "    else:\n",
    "        print(a,'is not a multiple of',b)\n",
    "\n",
    "isMultipleOf(26,13)\n",
    "isMultipleOf(13,16)\n",
    "isMultipleOf(26,5)"
   ]
  }
 ],
 "metadata": {
  "kernelspec": {
   "display_name": "base",
   "language": "python",
   "name": "python3"
  },
  "language_info": {
   "codemirror_mode": {
    "name": "ipython",
    "version": 3
   },
   "file_extension": ".py",
   "mimetype": "text/x-python",
   "name": "python",
   "nbconvert_exporter": "python",
   "pygments_lexer": "ipython3",
   "version": "3.9.13"
  }
 },
 "nbformat": 4,
 "nbformat_minor": 2
}
