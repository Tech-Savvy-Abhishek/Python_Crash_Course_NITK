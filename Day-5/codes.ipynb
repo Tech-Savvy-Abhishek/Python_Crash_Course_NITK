{
 "cells": [
  {
   "cell_type": "code",
   "execution_count": 1,
   "metadata": {},
   "outputs": [
    {
     "data": {
      "text/plain": [
       "'aka'"
      ]
     },
     "execution_count": 1,
     "metadata": {},
     "output_type": "execute_result"
    }
   ],
   "source": [
    "name='azhkaban'\n",
    "name[::3]"
   ]
  },
  {
   "cell_type": "code",
   "execution_count": 3,
   "metadata": {},
   "outputs": [
    {
     "name": "stdout",
     "output_type": "stream",
     "text": [
      "a, z, h, k, a, b, a, n, "
     ]
    }
   ],
   "source": [
    "for ch in name:\n",
    "    print(ch, end=', ')"
   ]
  },
  {
   "cell_type": "code",
   "execution_count": 4,
   "metadata": {},
   "outputs": [
    {
     "name": "stdout",
     "output_type": "stream",
     "text": [
      "0 -> a\n",
      "1 -> z\n",
      "2 -> h\n",
      "3 -> k\n",
      "4 -> a\n",
      "5 -> b\n",
      "6 -> a\n",
      "7 -> n\n"
     ]
    }
   ],
   "source": [
    "for idx, ch in enumerate(name):\n",
    "    print(f'{idx} -> {ch}')"
   ]
  },
  {
   "cell_type": "code",
   "execution_count": 5,
   "metadata": {},
   "outputs": [
    {
     "data": {
      "text/plain": [
       "'  '"
      ]
     },
     "execution_count": 5,
     "metadata": {},
     "output_type": "execute_result"
    }
   ],
   "source": [
    "name='most recent call'\n",
    "name[4::7]"
   ]
  },
  {
   "cell_type": "code",
   "execution_count": 6,
   "metadata": {},
   "outputs": [
    {
     "data": {
      "text/plain": [
       "True"
      ]
     },
     "execution_count": 6,
     "metadata": {},
     "output_type": "execute_result"
    }
   ],
   "source": [
    "name[:4].isalpha()"
   ]
  },
  {
   "cell_type": "code",
   "execution_count": 7,
   "metadata": {},
   "outputs": [
    {
     "name": "stdout",
     "output_type": "stream",
     "text": [
      "abc is an Isogram\n",
      "abca is NOT an Isogram\n",
      "lumberjacks is an Isogram\n",
      "background is an Isogram\n"
     ]
    }
   ],
   "source": [
    "def isIsogram(str):\n",
    "    for ch in str:\n",
    "        if str.count(ch) > 1:\n",
    "            return False\n",
    "    return True\n",
    "\n",
    "\n",
    "wordSet = ['abc', 'abca', 'lumberjacks', 'background']\n",
    "for str in wordSet:\n",
    "    if isIsogram(str):\n",
    "        print(str, 'is an Isogram')\n",
    "    else:\n",
    "        print(str, 'is NOT an Isogram')"
   ]
  },
  {
   "cell_type": "code",
   "execution_count": 14,
   "metadata": {},
   "outputs": [
    {
     "name": "stdout",
     "output_type": "stream",
     "text": [
      "abc is an Isogram\n",
      "abca is NOT an Isogram\n",
      "lumberjacks is an Isogram\n",
      "background is an Isogram\n"
     ]
    }
   ],
   "source": [
    "def isIsogram2(str):\n",
    "    x = 0\n",
    "    for ch in str:\n",
    "        mask = 1\n",
    "        mask = mask << (ord(ch)-ord('a'))\n",
    "        if (mask & x) == 1:\n",
    "            return False\n",
    "        else:\n",
    "            x = x | mask\n",
    "    return True\n",
    "\n",
    "\n",
    "wordSet = ['abc', 'abca', 'lumberjacks', 'background']\n",
    "for str in wordSet:\n",
    "    if isIsogram2(str):\n",
    "        print(str, 'is an Isogram')\n",
    "    else:\n",
    "        print(str, 'is NOT an Isogram')"
   ]
  },
  {
   "cell_type": "code",
   "execution_count": 16,
   "metadata": {},
   "outputs": [
    {
     "name": "stdout",
     "output_type": "stream",
     "text": [
      "1\n",
      "[2, 3]\n",
      "[1, 2, 3, 4, 5, 'abc', [9, 10, ['abc']]]\n",
      "[1, 2, 3, 4, 5, 'abc', [9, 10, ['abc']], 101]\n",
      "[1, 2, 3, 4, 5, 'abc', 101]\n",
      "[1, 2, 3, 4, 5, 'abc', 101, 34, 35, 36]\n"
     ]
    }
   ],
   "source": [
    "l = [1, 2, 3, 4, 5, 'abc', [9, 10, ['abc']]]\n",
    "\n",
    "print(l[0], l[1:3], l, sep='\\n')\n",
    "l.append(101)\n",
    "print(l)\n",
    "l.pop(6)\n",
    "print(l)\n",
    "l.extend([34, 35, 36])\n",
    "print(l)"
   ]
  },
  {
   "cell_type": "code",
   "execution_count": 1,
   "metadata": {},
   "outputs": [
    {
     "name": "stdout",
     "output_type": "stream",
     "text": [
      "Square numbers list from 1 to 10:  [1, 4, 9, 16, 25, 36, 49, 64, 81, 100]\n",
      "Average of the numbers in the list:  38.5\n"
     ]
    }
   ],
   "source": [
    "def sqList(n):\n",
    "    sq = []\n",
    "    for i in range(1, n+1):\n",
    "        sq.append(i**2)\n",
    "    return sq\n",
    "\n",
    "def listAvg(list1):\n",
    "    return sum(list1)/len(list1)\n",
    "\n",
    "\n",
    "n=10\n",
    "sq = sqList(n)\n",
    "print(f'Square numbers list from 1 to {n}: ',sq)\n",
    "print('Average of the numbers in the list: ',listAvg(sq))"
   ]
  }
 ],
 "metadata": {
  "kernelspec": {
   "display_name": "base",
   "language": "python",
   "name": "python3"
  },
  "language_info": {
   "codemirror_mode": {
    "name": "ipython",
    "version": 3
   },
   "file_extension": ".py",
   "mimetype": "text/x-python",
   "name": "python",
   "nbconvert_exporter": "python",
   "pygments_lexer": "ipython3",
   "version": "3.9.13"
  }
 },
 "nbformat": 4,
 "nbformat_minor": 2
}
