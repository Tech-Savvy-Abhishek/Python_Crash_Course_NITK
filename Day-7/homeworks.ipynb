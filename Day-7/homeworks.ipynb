{
 "cells": [
  {
   "cell_type": "markdown",
   "metadata": {},
   "source": [
    "## **Homework-1:**  \n",
    "### **Task:**  \n",
    "Find the key corresponding to minimum value in the dictionary"
   ]
  },
  {
   "cell_type": "code",
   "execution_count": 8,
   "metadata": {},
   "outputs": [],
   "source": [
    "import math\n",
    "\n",
    "def find_min_idx(d1):\n",
    "    mini = math.inf\n",
    "    min_key = 0\n",
    "    for key, val in d1.items():\n",
    "        if val < mini:\n",
    "            min_key = key\n",
    "            mini = val\n",
    "    return min_key"
   ]
  },
  {
   "cell_type": "code",
   "execution_count": 9,
   "metadata": {},
   "outputs": [
    {
     "data": {
      "text/plain": [
       "['Formatter',\n",
       " 'Template',\n",
       " '_ChainMap',\n",
       " '__all__',\n",
       " '__builtins__',\n",
       " '__cached__',\n",
       " '__doc__',\n",
       " '__file__',\n",
       " '__loader__',\n",
       " '__name__',\n",
       " '__package__',\n",
       " '__spec__',\n",
       " '_re',\n",
       " '_sentinel_dict',\n",
       " '_string',\n",
       " 'ascii_letters',\n",
       " 'ascii_lowercase',\n",
       " 'ascii_uppercase',\n",
       " 'capwords',\n",
       " 'digits',\n",
       " 'hexdigits',\n",
       " 'octdigits',\n",
       " 'printable',\n",
       " 'punctuation',\n",
       " 'whitespace']"
      ]
     },
     "execution_count": 9,
     "metadata": {},
     "output_type": "execute_result"
    }
   ],
   "source": [
    "import string\n",
    "dir(string)"
   ]
  },
  {
   "cell_type": "code",
   "execution_count": 10,
   "metadata": {},
   "outputs": [
    {
     "data": {
      "text/plain": [
       "{'a': -95,\n",
       " 'b': 73,\n",
       " 'c': -25,\n",
       " 'd': -15,\n",
       " 'e': -94,\n",
       " 'f': 31,\n",
       " 'g': -4,\n",
       " 'h': 58,\n",
       " 'i': -35,\n",
       " 'j': -2,\n",
       " 'k': -97,\n",
       " 'l': -81,\n",
       " 'm': 61,\n",
       " 'n': -95,\n",
       " 'o': -90,\n",
       " 'p': -82,\n",
       " 'q': 1,\n",
       " 'r': 14,\n",
       " 's': -7,\n",
       " 't': -75,\n",
       " 'u': -45,\n",
       " 'v': -56,\n",
       " 'w': 82,\n",
       " 'x': 50,\n",
       " 'y': -56,\n",
       " 'z': -21}"
      ]
     },
     "execution_count": 10,
     "metadata": {},
     "output_type": "execute_result"
    }
   ],
   "source": [
    "import random\n",
    "\n",
    "alphabet=string.ascii_lowercase\n",
    "d1={}\n",
    "for letter in alphabet:\n",
    "    d1[letter]=random.randint(-100,100)\n",
    "\n",
    "d1"
   ]
  },
  {
   "cell_type": "code",
   "execution_count": 11,
   "metadata": {},
   "outputs": [
    {
     "name": "stdout",
     "output_type": "stream",
     "text": [
      "Key corresponding to the minimum value in the dictionary is: k\n",
      "Minimum value is: -97\n"
     ]
    }
   ],
   "source": [
    "minIdx=find_min_idx(d1)\n",
    "print(f'Key corresponding to the minimum value in the dictionary is: {minIdx}')\n",
    "print(f'Minimum value is: {d1[minIdx]}')"
   ]
  }
 ],
 "metadata": {
  "kernelspec": {
   "display_name": "base",
   "language": "python",
   "name": "python3"
  },
  "language_info": {
   "codemirror_mode": {
    "name": "ipython",
    "version": 3
   },
   "file_extension": ".py",
   "mimetype": "text/x-python",
   "name": "python",
   "nbconvert_exporter": "python",
   "pygments_lexer": "ipython3",
   "version": "3.9.13"
  }
 },
 "nbformat": 4,
 "nbformat_minor": 2
}
