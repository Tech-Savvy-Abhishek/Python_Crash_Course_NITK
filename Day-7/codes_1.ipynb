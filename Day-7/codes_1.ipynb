{
 "cells": [
  {
   "cell_type": "code",
   "execution_count": 3,
   "metadata": {},
   "outputs": [],
   "source": [
    "d1={'name':'Abhishek', \n",
    "    'age':21,\n",
    "    'cgpa':8.04,\n",
    "    'branch':'IT'\n",
    "    }"
   ]
  },
  {
   "cell_type": "code",
   "execution_count": 12,
   "metadata": {},
   "outputs": [
    {
     "name": "stdout",
     "output_type": "stream",
     "text": [
      "Keys in d1:\n",
      "name , age , cgpa , branch , \n",
      "\n",
      "Values corresponding to keys in d1:\n",
      "Abhishek , 21 , 8.04 , IT , \n",
      "\n",
      "key and corresponding values in d1:\n",
      "name => Abhishek , age => 21 , cgpa => 8.04 , branch => IT , "
     ]
    }
   ],
   "source": [
    "print('Keys in d1:')\n",
    "for key in d1.keys():\n",
    "    print(key, end=' , ')\n",
    "\n",
    "print('\\n')\n",
    "print('Values corresponding to keys in d1:')\n",
    "for val in d1.values():\n",
    "    print(val, end=' , ')\n",
    "\n",
    "print('\\n')\n",
    "print('key and corresponding values in d1:')\n",
    "for key, val in d1.items():\n",
    "    print(f'{key} => {val}', end=' , ')"
   ]
  },
  {
   "cell_type": "code",
   "execution_count": 1,
   "metadata": {},
   "outputs": [],
   "source": [
    "name=\"abhishek\""
   ]
  },
  {
   "cell_type": "code",
   "execution_count": 2,
   "metadata": {},
   "outputs": [
    {
     "name": "stdout",
     "output_type": "stream",
     "text": [
      "{'a': 97, 'b': 98, 'h': 104, 'i': 105, 's': 115, 'e': 101, 'k': 107}\n",
      "{97: 'a', 98: 'b', 104: 'h', 105: 'i', 115: 's', 101: 'e', 107: 'k'}\n"
     ]
    }
   ],
   "source": [
    "ord_dict = dict(zip(name, [ord(l) for l in name]))\n",
    "chr_dict = dict(zip([ord(l) for l in name], name))\n",
    "print(ord_dict, chr_dict, sep='\\n')"
   ]
  },
  {
   "cell_type": "code",
   "execution_count": 13,
   "metadata": {},
   "outputs": [],
   "source": [
    "def combine_dict(d1, d2):\n",
    "    d1.update(d2)"
   ]
  },
  {
   "cell_type": "code",
   "execution_count": 16,
   "metadata": {},
   "outputs": [
    {
     "data": {
      "text/plain": [
       "{'a': 97,\n",
       " 'b': 98,\n",
       " 'h': 104,\n",
       " 'i': 105,\n",
       " 's': 115,\n",
       " 'e': 101,\n",
       " 'k': 107,\n",
       " 97: 'a',\n",
       " 98: 'b',\n",
       " 104: 'h',\n",
       " 105: 'i',\n",
       " 115: 's',\n",
       " 101: 'e',\n",
       " 107: 'k'}"
      ]
     },
     "execution_count": 16,
     "metadata": {},
     "output_type": "execute_result"
    }
   ],
   "source": [
    "combine_dict(ord_dict, chr_dict)\n",
    "ord_dict"
   ]
  }
 ],
 "metadata": {
  "kernelspec": {
   "display_name": "base",
   "language": "python",
   "name": "python3"
  },
  "language_info": {
   "codemirror_mode": {
    "name": "ipython",
    "version": 3
   },
   "file_extension": ".py",
   "mimetype": "text/x-python",
   "name": "python",
   "nbconvert_exporter": "python",
   "pygments_lexer": "ipython3",
   "version": "3.9.13"
  }
 },
 "nbformat": 4,
 "nbformat_minor": 2
}
