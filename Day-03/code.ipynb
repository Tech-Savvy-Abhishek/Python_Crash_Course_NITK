{
 "cells": [
  {
   "cell_type": "code",
   "execution_count": 4,
   "metadata": {},
   "outputs": [
    {
     "data": {
      "text/plain": [
       "28"
      ]
     },
     "execution_count": 4,
     "metadata": {},
     "output_type": "execute_result"
    }
   ],
   "source": [
    "import random\n",
    "random.randint(-100,100)"
   ]
  },
  {
   "cell_type": "code",
   "execution_count": 5,
   "metadata": {},
   "outputs": [],
   "source": [
    "def checkForZeros(n1, n2,n3):\n",
    "    if n1==0 or n2==0 or n3==0:\n",
    "        return True\n",
    "    return False"
   ]
  },
  {
   "cell_type": "code",
   "execution_count": 6,
   "metadata": {},
   "outputs": [
    {
     "name": "stdout",
     "output_type": "stream",
     "text": [
      "False\n",
      "True\n"
     ]
    }
   ],
   "source": [
    "print(checkForZeros(1,2,3))\n",
    "print(checkForZeros(2,0,4))"
   ]
  },
  {
   "cell_type": "code",
   "execution_count": 9,
   "metadata": {},
   "outputs": [],
   "source": [
    "def pnz(n):\n",
    "    if n<0:\n",
    "        return 'N'\n",
    "    elif n==0:\n",
    "        return 'Z'\n",
    "    else:\n",
    "        return 'P'"
   ]
  },
  {
   "cell_type": "code",
   "execution_count": 10,
   "metadata": {},
   "outputs": [
    {
     "name": "stdout",
     "output_type": "stream",
     "text": [
      "12 -> P\n",
      "0 -> Z\n",
      "-6 -> N\n"
     ]
    }
   ],
   "source": [
    "print(f'12 -> {pnz(12)}')\n",
    "print(f'0 -> {pnz(0)}')\n",
    "print(f'-6 -> {pnz(-6)}')"
   ]
  },
  {
   "cell_type": "code",
   "execution_count": 17,
   "metadata": {},
   "outputs": [],
   "source": [
    "def countZeros1(n1,n2,n3):\n",
    "    count=0\n",
    "    if n1==0:\n",
    "        count+=1\n",
    "    if n2==0:\n",
    "        count+=1\n",
    "    if n3==0:\n",
    "        count+=1\n",
    "    return count\n",
    "\n",
    "def countZeros2(n1,n2,n3):\n",
    "    if n1==0 and n2==0 and n3==0:\n",
    "        return 3\n",
    "    elif n1==0 and n2==0 or n2==0 and n3==0 or n3==0 and n1==0:\n",
    "        return 2\n",
    "    elif n1==0 or n2==0 or n3==0:\n",
    "        return 1\n",
    "    return 0\n",
    "\n",
    "def countZeros3(n1,n2,n3):\n",
    "    return int(n1==0)+int(n2==0)+int(n3==0)\n"
   ]
  },
  {
   "cell_type": "code",
   "execution_count": 23,
   "metadata": {},
   "outputs": [
    {
     "name": "stdout",
     "output_type": "stream",
     "text": [
      "Number of zeros in 0, 10, 0 -> 2\n",
      "Number of zeros in 0, 10, 0 -> 2\n",
      "Number of zeros in 0, 10, 0 -> 2\n"
     ]
    }
   ],
   "source": [
    "n1=0\n",
    "n2=10\n",
    "n3=0\n",
    "\n",
    "print(f'Number of zeros in {n1}, {n2}, {n3} -> {countZeros1(n1,n2,n3)}')\n",
    "print(f'Number of zeros in {n1}, {n2}, {n3} -> {countZeros2(n1,n2,n3)}')\n",
    "print(f'Number of zeros in {n1}, {n2}, {n3} -> {countZeros3(n1,n2,n3)}')"
   ]
  },
  {
   "cell_type": "markdown",
   "metadata": {},
   "source": [
    "### `and` has higher precedence than `or` \n",
    "### If the precedences are equal then evaluation is left to right"
   ]
  },
  {
   "cell_type": "code",
   "execution_count": 25,
   "metadata": {},
   "outputs": [
    {
     "name": "stdout",
     "output_type": "stream",
     "text": [
      "True\n",
      "True\n"
     ]
    }
   ],
   "source": [
    "print(True or False and False)\n",
    "print(False and True or True)"
   ]
  },
  {
   "cell_type": "code",
   "execution_count": 26,
   "metadata": {},
   "outputs": [
    {
     "name": "stdout",
     "output_type": "stream",
     "text": [
      "2016 is a Leap year\n",
      "2024 is a Leap year\n",
      "100 is not a Leap year\n",
      "1600 is a Leap year\n",
      "1900 is not a Leap year\n",
      "2100 is not a Leap year\n",
      "2023 is not a Leap year\n",
      "2025 is not a Leap year\n"
     ]
    }
   ],
   "source": [
    "def checkIfLeapYear(y):\n",
    "    if y%400==0:\n",
    "        return True\n",
    "    elif y%100==0:\n",
    "        return False\n",
    "    return y%4==0\n",
    "\n",
    "\n",
    "years = [2016, 2024, 100, 1600, 1900, 2100, 2023, 2025]\n",
    "\n",
    "for i in range(8):\n",
    "    if (checkIfLeapYear(years[i])):\n",
    "        print(years[i], 'is a Leap year')\n",
    "    else:\n",
    "        print(years[i], 'is not a Leap year')"
   ]
  }
 ],
 "metadata": {
  "kernelspec": {
   "display_name": "base",
   "language": "python",
   "name": "python3"
  },
  "language_info": {
   "codemirror_mode": {
    "name": "ipython",
    "version": 3
   },
   "file_extension": ".py",
   "mimetype": "text/x-python",
   "name": "python",
   "nbconvert_exporter": "python",
   "pygments_lexer": "ipython3",
   "version": "3.9.13"
  }
 },
 "nbformat": 4,
 "nbformat_minor": 2
}
