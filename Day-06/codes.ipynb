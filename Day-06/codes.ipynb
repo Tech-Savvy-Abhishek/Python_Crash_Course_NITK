{
 "cells": [
  {
   "cell_type": "code",
   "execution_count": 45,
   "metadata": {},
   "outputs": [
    {
     "data": {
      "text/plain": [
       "[]"
      ]
     },
     "execution_count": 45,
     "metadata": {},
     "output_type": "execute_result"
    }
   ],
   "source": [
    "list(range(1,1))"
   ]
  },
  {
   "cell_type": "code",
   "execution_count": 46,
   "metadata": {},
   "outputs": [
    {
     "data": {
      "text/plain": [
       "1.23"
      ]
     },
     "execution_count": 46,
     "metadata": {},
     "output_type": "execute_result"
    }
   ],
   "source": [
    "num=1.23456\n",
    "round(num, 2)"
   ]
  },
  {
   "cell_type": "code",
   "execution_count": 47,
   "metadata": {},
   "outputs": [
    {
     "data": {
      "text/plain": [
       "[2, 4, 6, 8, 10, 12, 14, 16, 18, 20, 22, 24, 26, 28, 30, 32, 34, 36, 38, 40]"
      ]
     },
     "execution_count": 47,
     "metadata": {},
     "output_type": "execute_result"
    }
   ],
   "source": [
    "[i for i in range(2, 41,2)] #list comprehension"
   ]
  },
  {
   "cell_type": "code",
   "execution_count": 48,
   "metadata": {},
   "outputs": [
    {
     "data": {
      "text/plain": [
       "[3.61, 5.1, 6.24, 7.21, 8.06, 8.83, 9.54, 10.2, 10.82, 11.4]"
      ]
     },
     "execution_count": 48,
     "metadata": {},
     "output_type": "execute_result"
    }
   ],
   "source": [
    "[round(x**0.5, 2) for x in range (13,13*10+1,13)]"
   ]
  },
  {
   "cell_type": "code",
   "execution_count": 49,
   "metadata": {},
   "outputs": [
    {
     "name": "stdout",
     "output_type": "stream",
     "text": [
      "0 :  35\n",
      "1 :  66\n",
      "2 :  29\n",
      "3 :  44\n",
      "4 :  20\n",
      "5 :  97\n",
      "6 :  99\n",
      "7 :  39\n",
      "8 :  57\n",
      "9 :  57\n"
     ]
    }
   ],
   "source": [
    "import random\n",
    "for idx, ch in enumerate([random.randint(1, 100) for _ in range(10)]):\n",
    "    print(idx, ': ',ch)"
   ]
  },
  {
   "cell_type": "code",
   "execution_count": 50,
   "metadata": {},
   "outputs": [
    {
     "data": {
      "text/plain": [
       "tuple"
      ]
     },
     "execution_count": 50,
     "metadata": {},
     "output_type": "execute_result"
    }
   ],
   "source": [
    "t = (1, 2, 3) #tuple\n",
    "type(t)"
   ]
  },
  {
   "cell_type": "code",
   "execution_count": 51,
   "metadata": {},
   "outputs": [
    {
     "data": {
      "text/plain": [
       "(1, 2)"
      ]
     },
     "execution_count": 51,
     "metadata": {},
     "output_type": "execute_result"
    }
   ],
   "source": [
    "t[:2]"
   ]
  },
  {
   "cell_type": "code",
   "execution_count": 52,
   "metadata": {},
   "outputs": [
    {
     "data": {
      "text/plain": [
       "{1, 4, 9, 16, 25, 36, 49, 64, 81, 100}"
      ]
     },
     "execution_count": 52,
     "metadata": {},
     "output_type": "execute_result"
    }
   ],
   "source": [
    "sq_list = [x**2 for x in range(1, 11)]\n",
    "sq_set = set(sq_list)\n",
    "sq_set"
   ]
  },
  {
   "cell_type": "code",
   "execution_count": 53,
   "metadata": {},
   "outputs": [
    {
     "name": "stdout",
     "output_type": "stream",
     "text": [
      "<class 'set'> <class 'set'>\n",
      "Union of {1, 2, 3} and {2, 3, 5, 6} = {1, 2, 3, 5, 6}\n"
     ]
    }
   ],
   "source": [
    "st1 = {1, 2, 3}\n",
    "st2 = {2,3,5, 6}\n",
    "\n",
    "print(type(st1),type(st2))\n",
    "\n",
    "st3 =st1 | st2  # union of sets\n",
    "print(f'Union of {st1} and {st2} = {st3}')"
   ]
  },
  {
   "cell_type": "code",
   "execution_count": 54,
   "metadata": {},
   "outputs": [
    {
     "name": "stdout",
     "output_type": "stream",
     "text": [
      "Intersection of {1, 2, 3} and {2, 3, 5, 6} = {2, 3}\n"
     ]
    }
   ],
   "source": [
    "st4 = st1 & st2 #intersection\n",
    "print(f'Intersection of {st1} and {st2} = {st4}')"
   ]
  },
  {
   "cell_type": "code",
   "execution_count": 55,
   "metadata": {},
   "outputs": [
    {
     "data": {
      "text/plain": [
       "True"
      ]
     },
     "execution_count": 55,
     "metadata": {},
     "output_type": "execute_result"
    }
   ],
   "source": [
    "3 in st4 #membership"
   ]
  },
  {
   "cell_type": "code",
   "execution_count": 56,
   "metadata": {},
   "outputs": [
    {
     "name": "stdout",
     "output_type": "stream",
     "text": [
      "Diiference of {1, 2, 3} and {2, 3, 5, 6} = {1}\n"
     ]
    }
   ],
   "source": [
    "st5=st1-st2 #set difference\n",
    "print(f'Diiference of {st1} and {st2} = {st5}')"
   ]
  },
  {
   "cell_type": "code",
   "execution_count": 57,
   "metadata": {},
   "outputs": [
    {
     "name": "stdout",
     "output_type": "stream",
     "text": [
      "Symmetric difference between {1, 2, 3} and {2, 3, 5, 6} = {1, 5, 6}\n"
     ]
    }
   ],
   "source": [
    "st6=st1^st2 #symmetric difference\n",
    "print(f'Symmetric difference between {st1} and {st2} = {st6}')"
   ]
  },
  {
   "cell_type": "code",
   "execution_count": 58,
   "metadata": {},
   "outputs": [
    {
     "data": {
      "text/plain": [
       "True"
      ]
     },
     "execution_count": 58,
     "metadata": {},
     "output_type": "execute_result"
    }
   ],
   "source": [
    "{1,2} < {1,2,3,4} #proper subset"
   ]
  },
  {
   "cell_type": "code",
   "execution_count": 59,
   "metadata": {},
   "outputs": [
    {
     "data": {
      "text/plain": [
       "True"
      ]
     },
     "execution_count": 59,
     "metadata": {},
     "output_type": "execute_result"
    }
   ],
   "source": [
    "{1,2,3} <= {1,2,3} #subset"
   ]
  },
  {
   "cell_type": "code",
   "execution_count": 60,
   "metadata": {},
   "outputs": [
    {
     "data": {
      "text/plain": [
       "{' ', 'a', 'e', 'h', 'i', 'l', 'm', 'n', 'o', 't'}"
      ]
     },
     "execution_count": 60,
     "metadata": {},
     "output_type": "execute_result"
    }
   ],
   "source": [
    "str1 = 'national anthem'\n",
    "set(str1) #stores only unique elements(isogram)"
   ]
  },
  {
   "cell_type": "code",
   "execution_count": 61,
   "metadata": {},
   "outputs": [
    {
     "name": "stdout",
     "output_type": "stream",
     "text": [
      "False\n",
      "True\n"
     ]
    }
   ],
   "source": [
    "def isIsogram(str1):\n",
    "    return len(str1) == len(set(str1))\n",
    "\n",
    "print(isIsogram('abcda'))\n",
    "print(isIsogram('xyz'))"
   ]
  },
  {
   "cell_type": "code",
   "execution_count": 62,
   "metadata": {},
   "outputs": [
    {
     "data": {
      "text/plain": [
       "dict"
      ]
     },
     "execution_count": 62,
     "metadata": {},
     "output_type": "execute_result"
    }
   ],
   "source": [
    "dict1={1:1, 2:4, 3:9, 4:16, 5:25} #dictionary\n",
    "type(dict1)"
   ]
  },
  {
   "cell_type": "code",
   "execution_count": 63,
   "metadata": {},
   "outputs": [
    {
     "data": {
      "text/plain": [
       "1"
      ]
     },
     "execution_count": 63,
     "metadata": {},
     "output_type": "execute_result"
    }
   ],
   "source": [
    "dict1[1]"
   ]
  },
  {
   "cell_type": "code",
   "execution_count": 64,
   "metadata": {},
   "outputs": [
    {
     "data": {
      "text/plain": [
       "{'101': ['Abhishek', 8.04, 'IT'],\n",
       " '102': ['Aditya', 9.0, 'CSE'],\n",
       " '103': ['Ashwin', 8.5, 'ECE'],\n",
       " '104': ['Harikiran', 9.5, 'EEE']}"
      ]
     },
     "execution_count": 64,
     "metadata": {},
     "output_type": "execute_result"
    }
   ],
   "source": [
    "student_dict={\n",
    "    '101':['Abhishek', 8.04, 'IT'],\n",
    "    '102':['Aditya',9.0,'CSE'],\n",
    "    '103':['Ashwin',8.5,'ECE'],\n",
    "    '104':['Harikiran',9.5,'EEE']\n",
    "}\n",
    "\n",
    "student_dict"
   ]
  },
  {
   "cell_type": "code",
   "execution_count": 65,
   "metadata": {},
   "outputs": [
    {
     "data": {
      "text/plain": [
       "{'101': ['Abhishek', 8.04, 'IT'],\n",
       " '102': ['Aditya', 9.0, 'CSE'],\n",
       " '103': ['Ashwin', 8.5, 'ECE'],\n",
       " '104': ['Harikiran', 9.5, 'EEE'],\n",
       " '105': ['Ayush', 10, 'ISE']}"
      ]
     },
     "execution_count": 65,
     "metadata": {},
     "output_type": "execute_result"
    }
   ],
   "source": [
    "student_dict.update({'105':['Ayush',10,'ISE']})\n",
    "student_dict"
   ]
  },
  {
   "cell_type": "code",
   "execution_count": 66,
   "metadata": {},
   "outputs": [
    {
     "name": "stdout",
     "output_type": "stream",
     "text": [
      "('one', 1)\n",
      "('two', 2)\n",
      "('three', 3)\n",
      "('four', 4)\n",
      "('five', 5)\n",
      "('six', 6)\n",
      "('seven', 7)\n"
     ]
    }
   ],
   "source": [
    "l1 = ['one', 'two', 'three', 'four', 'five', 'six', 'seven', 'eight']\n",
    "l2 = [1, 2, 3, 4, 5, 6, 7]\n",
    "for z in zip(l1, l2):\n",
    "    print(z)"
   ]
  },
  {
   "cell_type": "code",
   "execution_count": 67,
   "metadata": {},
   "outputs": [
    {
     "data": {
      "text/plain": [
       "{'one': 1, 'two': 2, 'three': 3, 'four': 4, 'five': 5, 'six': 6, 'seven': 7}"
      ]
     },
     "execution_count": 67,
     "metadata": {},
     "output_type": "execute_result"
    }
   ],
   "source": [
    "dict2 = dict(zip(l1,l2))\n",
    "dict2"
   ]
  },
  {
   "cell_type": "code",
   "execution_count": 68,
   "metadata": {},
   "outputs": [
    {
     "name": "stdout",
     "output_type": "stream",
     "text": [
      "one -> 1\n",
      "two -> 2\n",
      "three -> 3\n",
      "four -> 4\n",
      "five -> 5\n",
      "six -> 6\n",
      "seven -> 7\n"
     ]
    }
   ],
   "source": [
    "for key, value in dict(zip(l1, l2)).items():\n",
    "    print(key, '->',value)"
   ]
  },
  {
   "cell_type": "code",
   "execution_count": 69,
   "metadata": {},
   "outputs": [
    {
     "data": {
      "text/plain": [
       "144"
      ]
     },
     "execution_count": 69,
     "metadata": {},
     "output_type": "execute_result"
    }
   ],
   "source": [
    "def custom_square_fn(n):\n",
    "    return n**2\n",
    "\n",
    "\n",
    "fn_dict={0:custom_square_fn}\n",
    "fn_dict[0](12)"
   ]
  },
  {
   "cell_type": "code",
   "execution_count": 70,
   "metadata": {},
   "outputs": [
    {
     "data": {
      "text/plain": [
       "{'a': 97, 'b': 98, 'h': 104, 'i': 105, 's': 115, 'e': 101, 'k': 107}"
      ]
     },
     "execution_count": 70,
     "metadata": {},
     "output_type": "execute_result"
    }
   ],
   "source": [
    "ord_dict = {}\n",
    "name = 'abhishek'\n",
    "for ch in name:\n",
    "    ord_dict[ch] = ord(ch)\n",
    "\n",
    "ord_dict"
   ]
  },
  {
   "cell_type": "code",
   "execution_count": 71,
   "metadata": {},
   "outputs": [
    {
     "data": {
      "text/plain": [
       "{97: 'a', 98: 'b', 104: 'h', 105: 'i', 115: 's', 101: 'e', 107: 'k'}"
      ]
     },
     "execution_count": 71,
     "metadata": {},
     "output_type": "execute_result"
    }
   ],
   "source": [
    "chr_dict = {}\n",
    "for ch in name:\n",
    "    chr_dict[ord(ch)] = ch\n",
    "\n",
    "chr_dict"
   ]
  },
  {
   "cell_type": "code",
   "execution_count": 72,
   "metadata": {},
   "outputs": [
    {
     "data": {
      "text/plain": [
       "{97: 'a', 98: 'b', 104: 'h', 105: 'i', 115: 's', 101: 'e', 107: 'k'}"
      ]
     },
     "execution_count": 72,
     "metadata": {},
     "output_type": "execute_result"
    }
   ],
   "source": [
    "ord_list = [ord(l) for l in name]\n",
    "ord_dict = dict(zip(ord_list, name))\n",
    "ord_dict"
   ]
  },
  {
   "cell_type": "code",
   "execution_count": 73,
   "metadata": {},
   "outputs": [
    {
     "data": {
      "text/plain": [
       "{97: 'a', 98: 'b', 104: 'h', 105: 'i', 115: 's', 101: 'e', 107: 'k'}"
      ]
     },
     "execution_count": 73,
     "metadata": {},
     "output_type": "execute_result"
    }
   ],
   "source": [
    "chr_dict = {}\n",
    "ord_list = [ord(l) for l in name]\n",
    "chr_dict = dict(zip(ord_list, name))\n",
    "chr_dict"
   ]
  },
  {
   "cell_type": "code",
   "execution_count": null,
   "metadata": {},
   "outputs": [
    {
     "name": "stdout",
     "output_type": "stream",
     "text": [
      "('one', 1)\n",
      "('two', 2)\n"
     ]
    }
   ],
   "source": [
    "l1 = ['one', 'two', 'three'] # three  items\n",
    "l2 = [1, 2] # two items\n",
    "for z in zip(l1, l2):\n",
    "    print(z)"
   ]
  },
  {
   "cell_type": "code",
   "execution_count": null,
   "metadata": {},
   "outputs": [
    {
     "name": "stdout",
     "output_type": "stream",
     "text": [
      "Type of set1: <class 'set'>\n",
      "Type of dict1: <class 'dict'>\n",
      "Type of dt: <class 'dict'>\n"
     ]
    }
   ],
   "source": [
    "set1={1,2,3} #set\n",
    "dict1={1:1,2:2,3:3} #dict\n",
    "dt={} #This is a dict NOT a set\n",
    "\n",
    "print(f'Type of set1: {type(set1)}')\n",
    "print(f'Type of dict1: {type(dict1)}')\n",
    "print(f'Type of dt: {type(dt)}')"
   ]
  }
 ],
 "metadata": {
  "kernelspec": {
   "display_name": "base",
   "language": "python",
   "name": "python3"
  },
  "language_info": {
   "codemirror_mode": {
    "name": "ipython",
    "version": 3
   },
   "file_extension": ".py",
   "mimetype": "text/x-python",
   "name": "python",
   "nbconvert_exporter": "python",
   "pygments_lexer": "ipython3",
   "version": "3.9.13"
  }
 },
 "nbformat": 4,
 "nbformat_minor": 2
}
