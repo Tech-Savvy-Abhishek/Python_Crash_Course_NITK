{
 "cells": [
  {
   "cell_type": "code",
   "execution_count": 4,
   "metadata": {},
   "outputs": [],
   "source": [
    "class NITK_student:\n",
    "\n",
    "    #   dunder init -> executes exactly ones when object is created\n",
    "    def __init__(self, name, roll_no):\n",
    "        self.student_name=name\n",
    "        self.roll_number=roll_no\n",
    "        self.courses_registered=[]\n",
    "        self.grade_card={}\n",
    "\n",
    "    # name of operation(function) defined inside class is called method\n",
    "    def show_details(self):\n",
    "        print('Student name:', self.student_name)\n",
    "        print('Roll number:', self.roll_number)\n",
    "        print('Courses registered:', 'None' if len(self.courses_registered)==0 else self.courses_registered)\n",
    "        print('Grade card:', 'Empty' if len(self.grade_card)==0 else self.grade_card)\n",
    "    \n",
    "    def register_course(self, course_code):\n",
    "        if course_code not in self.courses_registered:\n",
    "            self.courses_registered.append(course_code)\n",
    "            print('Successfully registered for course:', course_code)\n",
    "        else:\n",
    "            print('Already registered for course:', course_code)\n",
    "\n",
    "    def clear_course(self, course_code, grade):\n",
    "        if course_code in self.courses_registered:\n",
    "            self.courses_registered.remove(course_code)\n",
    "            self.grade_card[course_code]=grade\n",
    "            print('Successfully cleared course:', course_code, 'with grade:', grade)\n",
    "        else:\n",
    "            print('Course not registered:', course_code)"
   ]
  },
  {
   "cell_type": "code",
   "execution_count": 5,
   "metadata": {},
   "outputs": [
    {
     "name": "stdout",
     "output_type": "stream",
     "text": [
      "Student name: Abhishek\n",
      "Roll number: 211IT001\n",
      "Courses registered: None\n",
      "Grade card: Empty\n"
     ]
    }
   ],
   "source": [
    "s1=NITK_student('Abhishek', '211IT001')\n",
    "s1.show_details()"
   ]
  },
  {
   "cell_type": "code",
   "execution_count": 6,
   "metadata": {},
   "outputs": [
    {
     "name": "stdout",
     "output_type": "stream",
     "text": [
      "Successfully registered for course: IT101\n",
      "Successfully registered for course: IT102\n",
      "Student name: Abhishek\n",
      "Roll number: 211IT001\n",
      "Courses registered: ['IT101', 'IT102']\n",
      "Grade card: Empty\n"
     ]
    }
   ],
   "source": [
    "s1.register_course('IT101')\n",
    "s1.register_course('IT102')\n",
    "s1.show_details()"
   ]
  },
  {
   "cell_type": "code",
   "execution_count": 7,
   "metadata": {},
   "outputs": [
    {
     "name": "stdout",
     "output_type": "stream",
     "text": [
      "Already registered for course: IT101\n"
     ]
    }
   ],
   "source": [
    "s1.register_course('IT101')"
   ]
  },
  {
   "cell_type": "code",
   "execution_count": 8,
   "metadata": {},
   "outputs": [
    {
     "name": "stdout",
     "output_type": "stream",
     "text": [
      "Successfully cleared course: IT101 with grade: AB\n",
      "Student name: Abhishek\n",
      "Roll number: 211IT001\n",
      "Courses registered: ['IT102']\n",
      "Grade card: {'IT101': 'AB'}\n"
     ]
    }
   ],
   "source": [
    "s1.clear_course('IT101', 'AB')\n",
    "s1.show_details()"
   ]
  },
  {
   "cell_type": "code",
   "execution_count": 9,
   "metadata": {},
   "outputs": [
    {
     "name": "stdout",
     "output_type": "stream",
     "text": [
      "Course not registered: IT201\n"
     ]
    }
   ],
   "source": [
    "s1.clear_course('IT201','AA')"
   ]
  },
  {
   "cell_type": "code",
   "execution_count": 11,
   "metadata": {},
   "outputs": [
    {
     "data": {
      "text/plain": [
       "1000"
      ]
     },
     "execution_count": 11,
     "metadata": {},
     "output_type": "execute_result"
    }
   ],
   "source": [
    "# import bank_class as bc\n",
    "# OR \n",
    "from bank_class import Bank_account\n",
    "\n",
    "b1=Bank_account('Abhishek',  1000)\n",
    "b1.get_balance()"
   ]
  }
 ],
 "metadata": {
  "kernelspec": {
   "display_name": "base",
   "language": "python",
   "name": "python3"
  },
  "language_info": {
   "codemirror_mode": {
    "name": "ipython",
    "version": 3
   },
   "file_extension": ".py",
   "mimetype": "text/x-python",
   "name": "python",
   "nbconvert_exporter": "python",
   "pygments_lexer": "ipython3",
   "version": "3.9.13"
  }
 },
 "nbformat": 4,
 "nbformat_minor": 2
}
