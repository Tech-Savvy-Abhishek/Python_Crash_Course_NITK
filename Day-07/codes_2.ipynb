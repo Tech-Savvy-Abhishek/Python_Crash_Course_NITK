{
 "cells": [
  {
   "cell_type": "code",
   "execution_count": 38,
   "metadata": {},
   "outputs": [],
   "source": [
    "path = './Supporting_files/pi_dig.txt'\n",
    "with open(path) as fptr:  # read from a file from hard drive\n",
    "    # fptr is a pointer to first byte in the file\n",
    "    contents=fptr.read()\n",
    "    #once read() is called, fptr reaches EOF\n",
    "    fptr.close()"
   ]
  },
  {
   "cell_type": "code",
   "execution_count": 39,
   "metadata": {},
   "outputs": [
    {
     "data": {
      "text/plain": [
       "str"
      ]
     },
     "execution_count": 39,
     "metadata": {},
     "output_type": "execute_result"
    }
   ],
   "source": [
    "type(contents)"
   ]
  },
  {
   "cell_type": "code",
   "execution_count": 40,
   "metadata": {},
   "outputs": [
    {
     "data": {
      "text/plain": [
       "'3.141592653589\\n95028841971693\\n86280348253421'"
      ]
     },
     "execution_count": 40,
     "metadata": {},
     "output_type": "execute_result"
    }
   ],
   "source": [
    "contents"
   ]
  },
  {
   "cell_type": "code",
   "execution_count": 41,
   "metadata": {},
   "outputs": [
    {
     "data": {
      "text/plain": [
       "'3.1415926535899502884197169386280348253421'"
      ]
     },
     "execution_count": 41,
     "metadata": {},
     "output_type": "execute_result"
    }
   ],
   "source": [
    "#accessing line by line\n",
    "pi_str=''\n",
    "\n",
    "with open(path) as fptr:\n",
    "    for line in fptr:\n",
    "        pi_str+=line.strip()\n",
    "\n",
    "pi_str"
   ]
  },
  {
   "cell_type": "code",
   "execution_count": 42,
   "metadata": {},
   "outputs": [
    {
     "name": "stdout",
     "output_type": "stream",
     "text": [
      "['3.141592653589\\n', '95028841971693\\n', '86280348253421']\n",
      "<class 'list'>\n",
      "<class 'str'>\n",
      "No of lines:  3\n"
     ]
    }
   ],
   "source": [
    "lines=[]\n",
    "with open(path) as fptr:\n",
    "    lines=fptr.readlines()\n",
    "\n",
    "print(lines)\n",
    "print(type(lines))\n",
    "print(type(lines[0]))\n",
    "print('No of lines: ', len(lines))"
   ]
  },
  {
   "cell_type": "code",
   "execution_count": 43,
   "metadata": {},
   "outputs": [
    {
     "name": "stdout",
     "output_type": "stream",
     "text": [
      "No of digits in pi:  1000002\n",
      "No of zeros in pi:  99959\n"
     ]
    }
   ],
   "source": [
    "path='./Supporting_files/pi_million_digits.txt'\n",
    "digit_count=0\n",
    "zeros_count=0\n",
    "with open(path) as fptr:\n",
    "    for line in fptr:\n",
    "        digit_count+=len(line.strip())\n",
    "        zeros_count+= line.strip().count('0')\n",
    "\n",
    "print('No of digits in pi: ',digit_count)\n",
    "print('No of zeros in pi: ',zeros_count)"
   ]
  },
  {
   "cell_type": "code",
   "execution_count": 44,
   "metadata": {},
   "outputs": [],
   "source": [
    "def search_bday_in_pi(bday):\n",
    "    linesWithBday=[]\n",
    "    path='./Supporting_files/pi_million_digits.txt'\n",
    "    currLine=0\n",
    "\n",
    "    with open(path) as fptr:\n",
    "        for line in fptr:\n",
    "            if bday in line:\n",
    "                linesWithBday.append(currLine)\n",
    "            currLine+=1\n",
    "    \n",
    "    return linesWithBday"
   ]
  },
  {
   "cell_type": "code",
   "execution_count": 45,
   "metadata": {},
   "outputs": [
    {
     "name": "stdout",
     "output_type": "stream",
     "text": [
      "Bday 010199 found on line(s): \n",
      "8635 , 8818 , \n",
      "\n",
      "Bday 18072003 not found\n"
     ]
    }
   ],
   "source": [
    "for bday in ['010199', '18072003']:\n",
    "    linesWithBday=search_bday_in_pi(bday)\n",
    "    if len(linesWithBday) > 0:\n",
    "        print(f'Bday {bday} found on line(s): ')\n",
    "        for line in linesWithBday:\n",
    "            print(line, end=' , ')\n",
    "        print('\\n')\n",
    "    else:\n",
    "        print(f'Bday {bday} not found')"
   ]
  },
  {
   "cell_type": "code",
   "execution_count": 47,
   "metadata": {},
   "outputs": [],
   "source": [
    "path='./Supporting_files/test_file.txt'\n",
    "with open(path, 'w') as fptr:\n",
    "    fptr.write('This is a test file')"
   ]
  },
  {
   "cell_type": "code",
   "execution_count": 48,
   "metadata": {},
   "outputs": [],
   "source": [
    "with open(path, 'w') as fptr:\n",
    "    fptr.write('Overwriting the test file')"
   ]
  }
 ],
 "metadata": {
  "kernelspec": {
   "display_name": "base",
   "language": "python",
   "name": "python3"
  },
  "language_info": {
   "codemirror_mode": {
    "name": "ipython",
    "version": 3
   },
   "file_extension": ".py",
   "mimetype": "text/x-python",
   "name": "python",
   "nbconvert_exporter": "python",
   "pygments_lexer": "ipython3",
   "version": "3.9.13"
  }
 },
 "nbformat": 4,
 "nbformat_minor": 2
}
